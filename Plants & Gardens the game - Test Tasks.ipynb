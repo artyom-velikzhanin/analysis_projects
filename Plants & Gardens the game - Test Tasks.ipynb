{
 "cells": [
  {
   "cell_type": "markdown",
   "metadata": {},
   "source": [
    "# Project: variant 1\n",
    "\n",
    "Imagine that you work for a company that develops mobile games. A manager came to you with a number of tasks to study several aspects of a mobile application:\n",
    "\n",
    "1) First of all, he is interested in the retention indicator. Write a function to calculate it.\n",
    "\n",
    "2) In addition, the company conducted A / B testing of sets of promotional offers. Based on the available data, determine which set can be considered the best and on the basis of which metrics it is worth making the right decision.\n",
    "\n",
    "3) Offer metrics to evaluate the results of the last past thematic event in the game.\n",
    "\n",
    "\n",
    "### Groups\n",
    "a - Control\n",
    "\n",
    "b - Treatment"
   ]
  },
  {
   "cell_type": "code",
   "execution_count": 1,
   "metadata": {},
   "outputs": [],
   "source": [
    "import pandas as pd\n",
    "import seaborn as sns\n",
    "import matplotlib.pyplot as plt"
   ]
  },
  {
   "cell_type": "markdown",
   "metadata": {},
   "source": [
    "# Task 1\n",
    "Retention is one of the most important indicators in a company.\n",
    "\n",
    "Your task is to write a function that will count the retention of players (by days from the date of registration of the player)."
   ]
  },
  {
   "cell_type": "markdown",
   "metadata": {},
   "source": [
    "Let's change timestamp type to datetime type:"
   ]
  },
  {
   "cell_type": "code",
   "execution_count": 13,
   "metadata": {},
   "outputs": [],
   "source": [
    "import pandas as pd\n",
    "\n",
    "def retention_by_day(reg,auth):\n",
    "    \n",
    "    # Convert the \"reg_ts\" and \"auth_ts\" columns to datetime format\n",
    "    reg.reg_ts = pd.to_datetime(reg.reg_ts, unit='s').dt.date\n",
    "    auth.auth_ts = pd.to_datetime(auth.auth_ts, unit='s').dt.date\n",
    "\n",
    "    # Merge 2 dataframes using \"LEFT JOIN\" to save users with single session.\n",
    "    retention = pd.merge(reg, auth, on = \"uid\", how = 'left')\n",
    "\n",
    "    # 1 auth date = 1 auth row, to be sure we dont count user twice for one day.\n",
    "    retention = retention.drop_duplicates()\n",
    "\n",
    "    # Find difference in days Authenticated and Registered\n",
    "    retention['day_diff'] = retention['auth_ts'] - retention['reg_ts']\n",
    "\n",
    "    # Set difference to integer type\n",
    "    retention.day_diff = retention.day_diff.dt.days.astype(int)\n",
    "\n",
    "    # Count retention for each day\n",
    "    retention = retention.day_diff.value_counts() \\\n",
    "                                  .reset_index() \\\n",
    "                                  .rename(columns = {'day_diff':'users','index':'day_num'}) \\\n",
    "                                  .sort_values('day_num')\n",
    "\n",
    "    # Normalize data\n",
    "    registered = retention.users.max()\n",
    "\n",
    "    # Percentage look\n",
    "    retention.users = round(retention.users /  registered * 100, 1).astype(str) + \"%\"\n",
    "    \n",
    "    return retention"
   ]
  },
  {
   "cell_type": "code",
   "execution_count": 14,
   "metadata": {},
   "outputs": [],
   "source": [
    "reg  = pd.read_csv('../shared/problem1-reg_data.csv', sep = \";\")\n",
    "auth = pd.read_csv('../shared/problem1-auth_data.csv', sep = \";\")"
   ]
  },
  {
   "cell_type": "code",
   "execution_count": 15,
   "metadata": {},
   "outputs": [],
   "source": [
    "retention = retention_by_day(reg, auth)"
   ]
  },
  {
   "cell_type": "code",
   "execution_count": 16,
   "metadata": {},
   "outputs": [
    {
     "data": {
      "text/html": [
       "<div>\n",
       "<style scoped>\n",
       "    .dataframe tbody tr th:only-of-type {\n",
       "        vertical-align: middle;\n",
       "    }\n",
       "\n",
       "    .dataframe tbody tr th {\n",
       "        vertical-align: top;\n",
       "    }\n",
       "\n",
       "    .dataframe thead th {\n",
       "        text-align: right;\n",
       "    }\n",
       "</style>\n",
       "<table border=\"1\" class=\"dataframe\">\n",
       "  <thead>\n",
       "    <tr style=\"text-align: right;\">\n",
       "      <th></th>\n",
       "      <th>day_num</th>\n",
       "      <th>users</th>\n",
       "    </tr>\n",
       "  </thead>\n",
       "  <tbody>\n",
       "    <tr>\n",
       "      <th>0</th>\n",
       "      <td>0</td>\n",
       "      <td>100.0%</td>\n",
       "    </tr>\n",
       "    <tr>\n",
       "      <th>35</th>\n",
       "      <td>1</td>\n",
       "      <td>2.0%</td>\n",
       "    </tr>\n",
       "    <tr>\n",
       "      <th>17</th>\n",
       "      <td>2</td>\n",
       "      <td>4.1%</td>\n",
       "    </tr>\n",
       "    <tr>\n",
       "      <th>11</th>\n",
       "      <td>3</td>\n",
       "      <td>4.6%</td>\n",
       "    </tr>\n",
       "    <tr>\n",
       "      <th>4</th>\n",
       "      <td>4</td>\n",
       "      <td>5.2%</td>\n",
       "    </tr>\n",
       "  </tbody>\n",
       "</table>\n",
       "</div>"
      ],
      "text/plain": [
       "    day_num   users\n",
       "0         0  100.0%\n",
       "35        1    2.0%\n",
       "17        2    4.1%\n",
       "11        3    4.6%\n",
       "4         4    5.2%"
      ]
     },
     "execution_count": 16,
     "metadata": {},
     "output_type": "execute_result"
    }
   ],
   "source": [
    "retention.head()"
   ]
  },
  {
   "cell_type": "code",
   "execution_count": 37,
   "metadata": {},
   "outputs": [
    {
     "data": {
      "image/png": "[encoded data removed]",
      "text/plain": [
       "<Figure size 864x576 with 1 Axes>"
      ]
     },
     "metadata": {
      "needs_background": "light"
     },
     "output_type": "display_data"
    }
   ],
   "source": [
    "# RR for first 30 days (day 0 excluded)\n",
    "plt.figure(figsize=(12,8))\n",
    "sns.lineplot(data = retention[1:30], x = 'day_num', y = retention.users.str.replace('%','').astype(float));\n",
    "ax = sns.lineplot(data = retention[1:30],\n",
    "                  x = 'day_num',\n",
    "                  y = retention.users.str.replace('%','').astype(float));\n",
    "\n",
    "ax.set(xlabel='Day Number', ylabel='RR percentage')\n",
    "plt.show();"
   ]
  },
  {
   "cell_type": "markdown",
   "metadata": {},
   "source": [
    "# Task 2\n",
    "There are results of an A/B test in which two groups of users were offered different sets of promotional offers. It is known that ARPU in the test group is 5% higher than in the control group. At the same time, in the control group, 1928 players out of 202103 turned out to be paying, and in the test group - 1805 out of 202667.\n",
    "\n",
    "What set of proposals can be considered the best? What metrics should be analyzed to make the right decision and how?\n",
    "\n",
    "\n"
   ]
  },
  {
   "cell_type": "code",
   "execution_count": 2,
   "metadata": {},
   "outputs": [],
   "source": [
    "data = pd.read_csv('../shared/problem2.csv', sep = ';')"
   ]
  },
  {
   "cell_type": "code",
   "execution_count": 3,
   "metadata": {},
   "outputs": [
    {
     "data": {
      "text/html": [
       "<div>\n",
       "<style scoped>\n",
       "    .dataframe tbody tr th:only-of-type {\n",
       "        vertical-align: middle;\n",
       "    }\n",
       "\n",
       "    .dataframe tbody tr th {\n",
       "        vertical-align: top;\n",
       "    }\n",
       "\n",
       "    .dataframe thead th {\n",
       "        text-align: right;\n",
       "    }\n",
       "</style>\n",
       "<table border=\"1\" class=\"dataframe\">\n",
       "  <thead>\n",
       "    <tr style=\"text-align: right;\">\n",
       "      <th></th>\n",
       "      <th>user_id</th>\n",
       "      <th>revenue</th>\n",
       "      <th>testgroup</th>\n",
       "    </tr>\n",
       "  </thead>\n",
       "  <tbody>\n",
       "    <tr>\n",
       "      <th>0</th>\n",
       "      <td>1</td>\n",
       "      <td>0</td>\n",
       "      <td>b</td>\n",
       "    </tr>\n",
       "    <tr>\n",
       "      <th>1</th>\n",
       "      <td>2</td>\n",
       "      <td>0</td>\n",
       "      <td>a</td>\n",
       "    </tr>\n",
       "    <tr>\n",
       "      <th>2</th>\n",
       "      <td>3</td>\n",
       "      <td>0</td>\n",
       "      <td>a</td>\n",
       "    </tr>\n",
       "    <tr>\n",
       "      <th>3</th>\n",
       "      <td>4</td>\n",
       "      <td>0</td>\n",
       "      <td>b</td>\n",
       "    </tr>\n",
       "    <tr>\n",
       "      <th>4</th>\n",
       "      <td>5</td>\n",
       "      <td>0</td>\n",
       "      <td>b</td>\n",
       "    </tr>\n",
       "  </tbody>\n",
       "</table>\n",
       "</div>"
      ],
      "text/plain": [
       "   user_id  revenue testgroup\n",
       "0        1        0         b\n",
       "1        2        0         a\n",
       "2        3        0         a\n",
       "3        4        0         b\n",
       "4        5        0         b"
      ]
     },
     "execution_count": 3,
     "metadata": {},
     "output_type": "execute_result"
    }
   ],
   "source": [
    "data.head()"
   ]
  },
  {
   "cell_type": "code",
   "execution_count": 4,
   "metadata": {},
   "outputs": [
    {
     "data": {
      "text/plain": [
       "user_id      0\n",
       "revenue      0\n",
       "testgroup    0\n",
       "dtype: int64"
      ]
     },
     "execution_count": 4,
     "metadata": {},
     "output_type": "execute_result"
    }
   ],
   "source": [
    "# Check if NaN values contained\n",
    "\n",
    "data.isna().sum()"
   ]
  },
  {
   "cell_type": "code",
   "execution_count": 5,
   "metadata": {},
   "outputs": [
    {
     "data": {
      "text/plain": [
       "count    404770.000000\n",
       "mean         26.083435\n",
       "std         681.652928\n",
       "min           0.000000\n",
       "25%           0.000000\n",
       "50%           0.000000\n",
       "75%           0.000000\n",
       "max       37433.000000\n",
       "Name: revenue, dtype: float64"
      ]
     },
     "execution_count": 5,
     "metadata": {},
     "output_type": "execute_result"
    }
   ],
   "source": [
    "# Check if revenue < 0 contained\n",
    "data.revenue.describe()"
   ]
  },
  {
   "cell_type": "code",
   "execution_count": 6,
   "metadata": {},
   "outputs": [
    {
     "data": {
      "text/plain": [
       "testgroup\n",
       "1            404770\n",
       "dtype: int64"
      ]
     },
     "execution_count": 6,
     "metadata": {},
     "output_type": "execute_result"
    }
   ],
   "source": [
    "# Check if Users occured in both groups\n",
    "num_of_groups = data.groupby('user_id') \\\n",
    "                    .agg({'testgroup':'nunique'}) \\\n",
    "                    .value_counts()\n",
    "num_of_groups"
   ]
  },
  {
   "cell_type": "markdown",
   "metadata": {},
   "source": [
    "No users occured in both groups, thats good."
   ]
  },
  {
   "cell_type": "code",
   "execution_count": 7,
   "metadata": {},
   "outputs": [
    {
     "data": {
      "text/plain": [
       "b    202667\n",
       "a    202103\n",
       "Name: testgroup, dtype: int64"
      ]
     },
     "execution_count": 7,
     "metadata": {},
     "output_type": "execute_result"
    }
   ],
   "source": [
    "# Number of users in each group\n",
    "\n",
    "data.testgroup.value_counts()"
   ]
  },
  {
   "cell_type": "code",
   "execution_count": 8,
   "metadata": {},
   "outputs": [
    {
     "data": {
      "image/png": "[encoded data removed]",
      "text/plain": [
       "<Figure size 576x432 with 1 Axes>"
      ]
     },
     "metadata": {
      "needs_background": "light"
     },
     "output_type": "display_data"
    }
   ],
   "source": [
    "# Check for outliers\n",
    "plt.figure(figsize=(8,6))\n",
    "sns.boxplot(data = data, x = 'testgroup', y = 'revenue');"
   ]
  },
  {
   "cell_type": "markdown",
   "metadata": {},
   "source": [
    "So I see 2 options to buy in Control group (a), and 1 in Treatment group. \n",
    "\n",
    "We know, that ARPU in the test group is 5% higher than in the control group.\n",
    "\n",
    "Let's see <b>Average revenue per paying user (ARPPU)</b>. And make some conclusions."
   ]
  },
  {
   "cell_type": "code",
   "execution_count": 9,
   "metadata": {},
   "outputs": [],
   "source": [
    "payed = data.query('revenue > 0')"
   ]
  },
  {
   "cell_type": "code",
   "execution_count": 10,
   "metadata": {},
   "outputs": [],
   "source": [
    "arppu = payed.groupby('testgroup', as_index = False) \\\n",
    "    .agg({'revenue':'mean'}) \\\n",
    "    .rename(columns = {'revenue':'ARPPU'})"
   ]
  },
  {
   "cell_type": "code",
   "execution_count": 11,
   "metadata": {},
   "outputs": [
    {
     "data": {
      "text/html": [
       "<div>\n",
       "<style scoped>\n",
       "    .dataframe tbody tr th:only-of-type {\n",
       "        vertical-align: middle;\n",
       "    }\n",
       "\n",
       "    .dataframe tbody tr th {\n",
       "        vertical-align: top;\n",
       "    }\n",
       "\n",
       "    .dataframe thead th {\n",
       "        text-align: right;\n",
       "    }\n",
       "</style>\n",
       "<table border=\"1\" class=\"dataframe\">\n",
       "  <thead>\n",
       "    <tr style=\"text-align: right;\">\n",
       "      <th></th>\n",
       "      <th>testgroup</th>\n",
       "      <th>ARPPU</th>\n",
       "    </tr>\n",
       "  </thead>\n",
       "  <tbody>\n",
       "    <tr>\n",
       "      <th>0</th>\n",
       "      <td>a</td>\n",
       "      <td>2663.998444</td>\n",
       "    </tr>\n",
       "    <tr>\n",
       "      <th>1</th>\n",
       "      <td>b</td>\n",
       "      <td>3003.658172</td>\n",
       "    </tr>\n",
       "  </tbody>\n",
       "</table>\n",
       "</div>"
      ],
      "text/plain": [
       "  testgroup        ARPPU\n",
       "0         a  2663.998444\n",
       "1         b  3003.658172"
      ]
     },
     "execution_count": 11,
     "metadata": {},
     "output_type": "execute_result"
    }
   ],
   "source": [
    "arppu"
   ]
  },
  {
   "cell_type": "code",
   "execution_count": 15,
   "metadata": {},
   "outputs": [
    {
     "data": {
      "text/plain": [
       "0.12749997236860255"
      ]
     },
     "execution_count": 15,
     "metadata": {},
     "output_type": "execute_result"
    }
   ],
   "source": [
    "3003.658172 / 2663.998444 - 1\n",
    "\n",
    "# revenue increased by almost 13%"
   ]
  },
  {
   "cell_type": "markdown",
   "metadata": {},
   "source": [
    "## Conclusion\n",
    "\n",
    "ARPU and ARPPU is higher in Treatment (test, b) group than in Control group.\n",
    "#### So the best option to apply is Treatment monetization option."
   ]
  },
  {
   "cell_type": "markdown",
   "metadata": {},
   "source": [
    "# Task 3\n",
    "a) Plants & Gardens has a limited-time themed event every month. In them, players can get unique items for the garden and characters, additional coins or bonuses. To receive a reward, you need to complete a series of levels in a certain time. What metrics can be used to evaluate the results of the last past event?\n",
    "\n",
    "b) Suppose, in another event, we have complicated the mechanics of events so that for each unsuccessful attempt to complete the level, the player will roll back several levels. Will the set of performance evaluation metrics change? If so, how?"
   ]
  },
  {
   "cell_type": "markdown",
   "metadata": {},
   "source": [
    "### Answers:\n",
    "\n",
    "В качестве основы для оценки результатов проведения ивентов я возьму показатель вовлеченности игроков, все остальные метрики я считаю следствием и декомпозицией основной метрики. Поэтому вовлеченность всегда будет стоят во главе всех метрик. Как бы я считал показатель вовлеченности: число целевых дейтсвий за период делил бы на произведение дней и игроков. И чем выше этот показатель тем лучше.\n",
    "\n",
    "ER = (Actions for period) / (Days * Users)\n",
    "\n",
    "### a) \n",
    "Первое, на что бы я обратил внимание, так это какой процентаж людей участвует в ивенте. Если участвует условно 30%, то эти 30% будем сравнивать с остальными 70%, которые не участвуют. А если участвует условно более 70% игроков в ивенте, то незачем сравнивать показатели этой группы, с остальной, потому что ивент является неотъемлемой частью геймплея - люди привыкли к ивентам.\n",
    "\n",
    "В целом, для оценки ивента я бы делил игроков на 3 сегмента:\n",
    "\n",
    "1) участвововал и проиграл <br>\n",
    "2) участвовал и победил<br>\n",
    "3) не участвовал (почему?)<br>\n",
    "\n",
    "Вот <b>метрики, на которые бы я смотрел</b>:\n",
    "\n",
    "1)<b> ARPU</b> - если, например, уровни в ивенте очень простые, то игроки будут легче получать предметы, монеты и бонусы. Как следствие, ввиду ненадобности, отпадёт желание донатить в игру или попросту не будет смысла, тогда и метрика упадёт.\n",
    "\n",
    "2) <b>LTV</b> - если после ивента LTV будет выше у тех, кто участвует в ивенте, но нужно привлечь внимание тех, кто ещё не участвует. Также обратил бы внимание у кого LTV выше - у тех кто выиграл в ивенте, или у тех кто проиграл, или нет разницы.\n",
    "\n",
    "3) <b>Retention Rate</b> - отпадает ли желание у игроков играть дальше после ивента, может ли поражение в ивенте негативно отразиться на желании игрока продолжать играть? Нужно смотреть.\n",
    "\n",
    "4) Можно добавить пару метрик типа <b>Average session time, Average Matches played</b> - и если они коррелируют с другими метриками, можно тоже посмотреть на поведение игроков.\n",
    "\n",
    "5) <b>Level Stuck Distribuiton</b> - смотрел бы на каких уровнях люди чаще всего застревают и следил бы, чтобы они не застревали на первых уровнях и не прекращали прохождение."
   ]
  },
  {
   "cell_type": "markdown",
   "metadata": {},
   "source": [
    "### b)\n",
    "\n",
    "Я бы оставил этот же набор метрик для оценки ивентов. \n",
    "Снизился бы процент пройденных уровней: люди очевидно фейлят и прекращают участие из-за сложности, и скорее всего больше не будут участвовать в ивентах - пропадает интерес.\n",
    "\n",
    "Я полагаю, что такая механика ухудшит вовлеченность игроков, как следствие упадут метрики типа ARPU, LTV, Retention Rate, DAU/MAU, а также прокси метрики.\n"
   ]
  },
  {
   "cell_type": "markdown",
   "metadata": {},
   "source": [
    "## English version:"
   ]
  },
  {
   "cell_type": "markdown",
   "metadata": {},
   "source": [
    "As a basis for evaluating the results of events, I will take the player involvement indicator, I consider all other metrics to be a consequence and decomposition of the main metric. Therefore, engagement will always be at the head of all metrics. How would I calculate the engagement rate: the number of target actions for the period would be divided by the product of days and players. And the higher this figure, the better.\n",
    "\n",
    "ER = (Actions for period) / (Days * Users)\n",
    "\n",
    "### a)\n",
    "The first thing I would pay attention to is what percentage of people participate in the event. If conditionally 30% participate, then we will compare these 30% with the remaining 70% that do not participate. And if conditionally more than 70% of the players participate in the event, then there is no need to compare the performance of this group with the rest, because the event is an integral part of the gameplay - people are used to events.\n",
    "\n",
    "In general, to evaluate the event, I would divide the players into 3 segments:\n",
    "\n",
    "1) participated and lost <br>\n",
    "2) participated and won<br>\n",
    "3) did not participate (why?)<br>\n",
    "\n",
    "Here are the <b>metrics I would look at</b>:\n",
    "\n",
    "1) <b>ARPU</b> - if, for example, the levels in the event are very simple, then players will be able to get items, coins and bonuses more easily. As a result, due to uselessness, the desire to donate to the game will disappear or there will simply be no point, then the metric will fall.\n",
    "\n",
    "2) <b>LTV</b> - if after the event LTV will be higher for those who participate in the event, but you need to attract the attention of those who do not participate yet. I would also pay attention to who has a higher LTV - those who won the event, or those who lost, or there is no difference.\n",
    "\n",
    "3) <b>Retention Rate</b> - does the player's desire to play further disappear after the event, can a loss in the event negatively affect the player's desire to continue playing? Need to watch.\n",
    "\n",
    "4) You can add a couple of metrics like <b>Average session time, Average Matches played</b> - and if they correlate with other metrics, you can also look at the behavior of the players.\n",
    "\n",
    "5) <b>Level Stuck Distribuiton</b> - I would look at what levels people get stuck most often and make sure that they do not get stuck on the first levels and do not stop passing."
   ]
  },
  {
   "cell_type": "markdown",
   "metadata": {},
   "source": [
    "### b)\n",
    "\n",
    "I would leave the same set of metrics for evaluating results of events.\n",
    "The percentage of completed levels would decrease: people obviously fail and stop participating because of the difficulty, and most likely they will no longer participate in events - interest is lost.\n",
    "\n",
    "I believe that such a mechanic will worsen the involvement of players, as a result, metrics such as ARPU, LTV, Retention Rate, DAU / MAU, as well as proxy metrics will decrease."
   ]
  }
 ],
 "metadata": {
  "kernelspec": {
   "display_name": "Python 3",
   "language": "python",
   "name": "python3"
  },
  "language_info": {
   "codemirror_mode": {
    "name": "ipython",
    "version": 3
   },
   "file_extension": ".py",
   "mimetype": "text/x-python",
   "name": "python",
   "nbconvert_exporter": "python",
   "pygments_lexer": "ipython3",
   "version": "3.7.3"
  }
 },
 "nbformat": 4,
 "nbformat_minor": 4
}
