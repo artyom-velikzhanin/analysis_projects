{
 "cells": [
  {
   "cell_type": "markdown",
   "id": "768929b2",
   "metadata": {},
   "source": [
    "# Product Metrics with Pandas 🐼"
   ]
  },
  {
   "cell_type": "markdown",
   "id": "0cddfc93",
   "metadata": {},
   "source": [
    "You uploaded data from AppMetrica for the period from January 1 to March 31, 2020, only for users registered after January 1, 2020.\n",
    "\n",
    "Data Description\n",
    "\n",
    "- date – date of the event\n",
    "\n",
    "- event - event\n",
    "\n",
    "app_install - app installation<br>\n",
    "app_start - open applications<br>\n",
    "registration - register <br>\n",
    "search – go to the product search page (catalogue)<br>\n",
    "open_item - open item<br>\n",
    "choose_item - send item to cart<br>\n",
    "tap_basket - go to cart<br>\n",
    "purchase - purchase confirmation<br>\n",
    "- gender - gender of the user\n",
    "\n",
    "- os_name - user platform\n",
    "\n",
    "- city – user's city\n",
    "\n",
    "- device_id - user device ID\n",
    "\n",
    "- urm_source - the channel from which the user came\n",
    "\n",
    "yandex-direct – Yandex direct <br>\n",
    "google_ads - advertising on Google<br>\n",
    "vk_ads - advertising in VK<br>\n",
    "instagram_ads – ads on instagram<br>\n",
    "facebook_ads - facebook ads<br>\n",
    "referral - promotion \"bring a friend\"<br><br>\n",
    "If there is ‘-’, then the channel is not defined or it is a direct download of the application or the visit is not from advertising\n",
    "- purchase_sum - the cost of the purchase (when the 'purchase' event occurs)\n",
    "\n",
    "Pay attention to the following:\n",
    "\n",
    "- In the upload, only unique user actions for each day\n",
    "\n",
    "- You can bypass the installation stage of the application if it was installed earlier\n",
    "\n",
    "- It is possible to bypass the registration stage if the user was already logged in at the time of the session. However, unregistered users cannot make a purchase."
   ]
  },
  {
   "cell_type": "code",
   "execution_count": 1,
   "id": "ee5978a7",
   "metadata": {},
   "outputs": [],
   "source": [
    "import pandas as pd"
   ]
  },
  {
   "cell_type": "code",
   "execution_count": 2,
   "id": "cc9514fb",
   "metadata": {},
   "outputs": [],
   "source": [
    "data = pd.read_csv('C:/Users/ArtyomV/Downloads/KC_case_data.csv')"
   ]
  },
  {
   "cell_type": "code",
   "execution_count": 3,
   "id": "003e21ce",
   "metadata": {},
   "outputs": [
    {
     "data": {
      "text/html": [
       "<div>\n",
       "<style scoped>\n",
       "    .dataframe tbody tr th:only-of-type {\n",
       "        vertical-align: middle;\n",
       "    }\n",
       "\n",
       "    .dataframe tbody tr th {\n",
       "        vertical-align: top;\n",
       "    }\n",
       "\n",
       "    .dataframe thead th {\n",
       "        text-align: right;\n",
       "    }\n",
       "</style>\n",
       "<table border=\"1\" class=\"dataframe\">\n",
       "  <thead>\n",
       "    <tr style=\"text-align: right;\">\n",
       "      <th></th>\n",
       "      <th>date</th>\n",
       "      <th>event</th>\n",
       "      <th>purchase_sum</th>\n",
       "      <th>os_name</th>\n",
       "      <th>device_id</th>\n",
       "      <th>gender</th>\n",
       "      <th>city</th>\n",
       "      <th>utm_source</th>\n",
       "    </tr>\n",
       "  </thead>\n",
       "  <tbody>\n",
       "    <tr>\n",
       "      <th>0</th>\n",
       "      <td>2020-01-01</td>\n",
       "      <td>app_start</td>\n",
       "      <td>NaN</td>\n",
       "      <td>android</td>\n",
       "      <td>669460</td>\n",
       "      <td>female</td>\n",
       "      <td>Moscow</td>\n",
       "      <td>-</td>\n",
       "    </tr>\n",
       "    <tr>\n",
       "      <th>1</th>\n",
       "      <td>2020-01-01</td>\n",
       "      <td>app_start</td>\n",
       "      <td>NaN</td>\n",
       "      <td>ios</td>\n",
       "      <td>833621</td>\n",
       "      <td>male</td>\n",
       "      <td>Moscow</td>\n",
       "      <td>vk_ads</td>\n",
       "    </tr>\n",
       "    <tr>\n",
       "      <th>2</th>\n",
       "      <td>2020-01-01</td>\n",
       "      <td>app_start</td>\n",
       "      <td>NaN</td>\n",
       "      <td>android</td>\n",
       "      <td>1579237</td>\n",
       "      <td>male</td>\n",
       "      <td>Saint-Petersburg</td>\n",
       "      <td>referal</td>\n",
       "    </tr>\n",
       "    <tr>\n",
       "      <th>3</th>\n",
       "      <td>2020-01-01</td>\n",
       "      <td>app_start</td>\n",
       "      <td>NaN</td>\n",
       "      <td>android</td>\n",
       "      <td>1737182</td>\n",
       "      <td>female</td>\n",
       "      <td>Moscow</td>\n",
       "      <td>facebook_ads</td>\n",
       "    </tr>\n",
       "    <tr>\n",
       "      <th>4</th>\n",
       "      <td>2020-01-01</td>\n",
       "      <td>app_start</td>\n",
       "      <td>NaN</td>\n",
       "      <td>ios</td>\n",
       "      <td>4029024</td>\n",
       "      <td>female</td>\n",
       "      <td>Moscow</td>\n",
       "      <td>facebook_ads</td>\n",
       "    </tr>\n",
       "  </tbody>\n",
       "</table>\n",
       "</div>"
      ],
      "text/plain": [
       "         date      event  purchase_sum  os_name  device_id  gender  \\\n",
       "0  2020-01-01  app_start           NaN  android     669460  female   \n",
       "1  2020-01-01  app_start           NaN      ios     833621    male   \n",
       "2  2020-01-01  app_start           NaN  android    1579237    male   \n",
       "3  2020-01-01  app_start           NaN  android    1737182  female   \n",
       "4  2020-01-01  app_start           NaN      ios    4029024  female   \n",
       "\n",
       "               city    utm_source  \n",
       "0            Moscow             -  \n",
       "1            Moscow        vk_ads  \n",
       "2  Saint-Petersburg       referal  \n",
       "3            Moscow  facebook_ads  \n",
       "4            Moscow  facebook_ads  "
      ]
     },
     "execution_count": 3,
     "metadata": {},
     "output_type": "execute_result"
    }
   ],
   "source": [
    "data.head()"
   ]
  },
  {
   "cell_type": "code",
   "execution_count": 4,
   "id": "cebd7662",
   "metadata": {},
   "outputs": [
    {
     "data": {
      "text/plain": [
       "date                  0\n",
       "event                 0\n",
       "purchase_sum    2606585\n",
       "os_name               0\n",
       "device_id             0\n",
       "gender                0\n",
       "city                  0\n",
       "utm_source            0\n",
       "dtype: int64"
      ]
     },
     "execution_count": 4,
     "metadata": {},
     "output_type": "execute_result"
    }
   ],
   "source": [
    "data.isna().sum()\n",
    "\n",
    "# Data looks solid!"
   ]
  },
  {
   "cell_type": "code",
   "execution_count": 5,
   "id": "55400715",
   "metadata": {},
   "outputs": [
    {
     "data": {
      "text/plain": [
       "(2747968, 8)"
      ]
     },
     "execution_count": 5,
     "metadata": {},
     "output_type": "execute_result"
    }
   ],
   "source": [
    "data.shape"
   ]
  },
  {
   "cell_type": "code",
   "execution_count": 6,
   "id": "430a398b",
   "metadata": {},
   "outputs": [],
   "source": [
    "data.date = pd.to_datetime(data.date)\n",
    "\n",
    "# Date column to date format"
   ]
  },
  {
   "cell_type": "markdown",
   "id": "8429d134",
   "metadata": {},
   "source": [
    "# 1. MAU by Month\n",
    "MAU in February:"
   ]
  },
  {
   "cell_type": "code",
   "execution_count": 7,
   "id": "52136e8c",
   "metadata": {},
   "outputs": [
    {
     "data": {
      "text/html": [
       "<div>\n",
       "<style scoped>\n",
       "    .dataframe tbody tr th:only-of-type {\n",
       "        vertical-align: middle;\n",
       "    }\n",
       "\n",
       "    .dataframe tbody tr th {\n",
       "        vertical-align: top;\n",
       "    }\n",
       "\n",
       "    .dataframe thead th {\n",
       "        text-align: right;\n",
       "    }\n",
       "</style>\n",
       "<table border=\"1\" class=\"dataframe\">\n",
       "  <thead>\n",
       "    <tr style=\"text-align: right;\">\n",
       "      <th></th>\n",
       "      <th>device_id</th>\n",
       "    </tr>\n",
       "    <tr>\n",
       "      <th>date</th>\n",
       "      <th></th>\n",
       "    </tr>\n",
       "  </thead>\n",
       "  <tbody>\n",
       "    <tr>\n",
       "      <th>2020-01</th>\n",
       "      <td>99161</td>\n",
       "    </tr>\n",
       "    <tr>\n",
       "      <th>2020-02</th>\n",
       "      <td>75032</td>\n",
       "    </tr>\n",
       "    <tr>\n",
       "      <th>2020-03</th>\n",
       "      <td>74623</td>\n",
       "    </tr>\n",
       "  </tbody>\n",
       "</table>\n",
       "</div>"
      ],
      "text/plain": [
       "         device_id\n",
       "date              \n",
       "2020-01      99161\n",
       "2020-02      75032\n",
       "2020-03      74623"
      ]
     },
     "execution_count": 7,
     "metadata": {},
     "output_type": "execute_result"
    }
   ],
   "source": [
    "data.groupby(data.date.dt.to_period('M'), as_index = True) \\\n",
    "    .agg({'device_id':'nunique'})"
   ]
  },
  {
   "cell_type": "markdown",
   "id": "02d21267",
   "metadata": {},
   "source": [
    "75032 MAU in February"
   ]
  },
  {
   "cell_type": "markdown",
   "id": "366b2502",
   "metadata": {},
   "source": [
    "# 2. Installs by Month\n",
    "Number of installs in January:"
   ]
  },
  {
   "cell_type": "code",
   "execution_count": 8,
   "id": "2dfea387",
   "metadata": {},
   "outputs": [
    {
     "data": {
      "text/plain": [
       "2020-01    80297\n",
       "2020-02    38078\n",
       "2020-03    36222\n",
       "Freq: M, Name: date, dtype: int64"
      ]
     },
     "execution_count": 8,
     "metadata": {},
     "output_type": "execute_result"
    }
   ],
   "source": [
    "data[(data.event == 'app_install')].date.dt.to_period('M').value_counts()"
   ]
  },
  {
   "cell_type": "markdown",
   "id": "2e8af62e",
   "metadata": {},
   "source": [
    "80297 install in January"
   ]
  },
  {
   "cell_type": "markdown",
   "id": "3212d4cf",
   "metadata": {},
   "source": [
    "# 3. Cohorts day by day: install -> purchase in 7 days\n",
    "Assign cohorts to users by the day the app was installed and calculate the conversion from install to purchase for them within 7 days. Which cohort had the highest conversion rate? Enter the answer in the format: dd.mm.yyyy\n",
    "\n",
    "Note: We consider a user to have converted if no more than 7 days have passed from the moment of installation to the first purchase."
   ]
  },
  {
   "cell_type": "code",
   "execution_count": 9,
   "id": "8d10f90d",
   "metadata": {},
   "outputs": [],
   "source": [
    "import pandas as pd\n",
    "\n",
    "# Load data into a dataframe\n",
    "df = pd.read_csv('C:/Users/ArtyomV/Downloads/KC_case_data.csv')\n",
    "\n",
    "# Convert the date column to datetime format\n",
    "df['date'] = pd.to_datetime(df['date'])\n",
    "\n",
    "data_install = df[data.event == 'app_install'][['date','device_id']]\n",
    "data_install['install_date'] = data_install.date\n",
    "data_install = data_install.drop(columns = 'date')\n",
    "df = pd.merge(df,data_install, on = 'device_id', how = 'left')\n",
    "\n",
    "# Create a cohort column based on the installation date\n",
    "# df['cohort'] = df.groupby('device_id')['date'].transform('min').dt.strftime('%Y-%m-%d')\n"
   ]
  },
  {
   "cell_type": "code",
   "execution_count": 10,
   "id": "188d2402",
   "metadata": {},
   "outputs": [],
   "source": [
    "# Calculate the number of days between the installation date and purchase date for each user\n",
    "df['days_since_install'] = (df['date'] - df.groupby('device_id')['date'].transform('min')).dt.days\n",
    "\n",
    "# Filter only the rows with event = 'purchase'\n",
    "purchases = df[df['event'] == 'purchase']\n",
    "\n",
    "# Filter only the rows with days_since_install <= 7\n",
    "converted = purchases[purchases['days_since_install'] <= 7]\n",
    "\n",
    "# Group the data by cohort and calculate the conversion rate\n",
    "conversion_rate = converted.groupby('install_date').agg({'device_id': 'nunique'}) / df.groupby('install_date').agg({'device_id': 'nunique'})\n"
   ]
  },
  {
   "cell_type": "code",
   "execution_count": 11,
   "id": "24a261dd",
   "metadata": {},
   "outputs": [
    {
     "data": {
      "text/html": [
       "<div>\n",
       "<style scoped>\n",
       "    .dataframe tbody tr th:only-of-type {\n",
       "        vertical-align: middle;\n",
       "    }\n",
       "\n",
       "    .dataframe tbody tr th {\n",
       "        vertical-align: top;\n",
       "    }\n",
       "\n",
       "    .dataframe thead th {\n",
       "        text-align: right;\n",
       "    }\n",
       "</style>\n",
       "<table border=\"1\" class=\"dataframe\">\n",
       "  <thead>\n",
       "    <tr style=\"text-align: right;\">\n",
       "      <th></th>\n",
       "      <th>device_id</th>\n",
       "    </tr>\n",
       "    <tr>\n",
       "      <th>install_date</th>\n",
       "      <th></th>\n",
       "    </tr>\n",
       "  </thead>\n",
       "  <tbody>\n",
       "    <tr>\n",
       "      <th>2020-01-01</th>\n",
       "      <td>0.393406</td>\n",
       "    </tr>\n",
       "    <tr>\n",
       "      <th>2020-01-02</th>\n",
       "      <td>0.377226</td>\n",
       "    </tr>\n",
       "    <tr>\n",
       "      <th>2020-01-03</th>\n",
       "      <td>0.347211</td>\n",
       "    </tr>\n",
       "    <tr>\n",
       "      <th>2020-01-04</th>\n",
       "      <td>0.348990</td>\n",
       "    </tr>\n",
       "    <tr>\n",
       "      <th>2020-01-05</th>\n",
       "      <td>0.351287</td>\n",
       "    </tr>\n",
       "    <tr>\n",
       "      <th>...</th>\n",
       "      <td>...</td>\n",
       "    </tr>\n",
       "    <tr>\n",
       "      <th>2020-03-27</th>\n",
       "      <td>0.231026</td>\n",
       "    </tr>\n",
       "    <tr>\n",
       "      <th>2020-03-28</th>\n",
       "      <td>0.191567</td>\n",
       "    </tr>\n",
       "    <tr>\n",
       "      <th>2020-03-29</th>\n",
       "      <td>0.199642</td>\n",
       "    </tr>\n",
       "    <tr>\n",
       "      <th>2020-03-30</th>\n",
       "      <td>0.205231</td>\n",
       "    </tr>\n",
       "    <tr>\n",
       "      <th>2020-03-31</th>\n",
       "      <td>0.248967</td>\n",
       "    </tr>\n",
       "  </tbody>\n",
       "</table>\n",
       "<p>91 rows × 1 columns</p>\n",
       "</div>"
      ],
      "text/plain": [
       "              device_id\n",
       "install_date           \n",
       "2020-01-01     0.393406\n",
       "2020-01-02     0.377226\n",
       "2020-01-03     0.347211\n",
       "2020-01-04     0.348990\n",
       "2020-01-05     0.351287\n",
       "...                 ...\n",
       "2020-03-27     0.231026\n",
       "2020-03-28     0.191567\n",
       "2020-03-29     0.199642\n",
       "2020-03-30     0.205231\n",
       "2020-03-31     0.248967\n",
       "\n",
       "[91 rows x 1 columns]"
      ]
     },
     "execution_count": 11,
     "metadata": {},
     "output_type": "execute_result"
    }
   ],
   "source": [
    "conversion_rate"
   ]
  },
  {
   "cell_type": "code",
   "execution_count": 12,
   "id": "a98def2e",
   "metadata": {},
   "outputs": [
    {
     "data": {
      "text/plain": [
       "Timestamp('2020-01-01 00:00:00')"
      ]
     },
     "execution_count": 12,
     "metadata": {},
     "output_type": "execute_result"
    }
   ],
   "source": [
    "conversion_rate.idxmax()[0]"
   ]
  },
  {
   "cell_type": "markdown",
   "id": "c5d17ebd",
   "metadata": {},
   "source": [
    "2020-01-01 has the highest CR"
   ]
  },
  {
   "cell_type": "markdown",
   "id": "1c0f6b8c",
   "metadata": {},
   "source": [
    "# 4. CR for 2020-01-01\n",
    "Enter the CR value from the previous question in % (round to 1 decimal place). The number format is with a dot. Example: 66.4."
   ]
  },
  {
   "cell_type": "code",
   "execution_count": 13,
   "id": "93b5df26",
   "metadata": {},
   "outputs": [
    {
     "data": {
      "text/plain": [
       "39.3"
      ]
     },
     "execution_count": 13,
     "metadata": {},
     "output_type": "execute_result"
    }
   ],
   "source": [
    "round(conversion_rate.reset_index().query('install_date == \"2020-01-01\"').device_id*100,1)[0]"
   ]
  },
  {
   "cell_type": "markdown",
   "id": "200ce1bc",
   "metadata": {},
   "source": [
    "39.3% of CR in 2020-01-01"
   ]
  },
  {
   "cell_type": "markdown",
   "id": "ea4701a4",
   "metadata": {},
   "source": [
    "# 5. UTM New Users\n",
    "Which paid marketing channel brought in the most new users?"
   ]
  },
  {
   "cell_type": "code",
   "execution_count": 14,
   "id": "bab393f7",
   "metadata": {},
   "outputs": [
    {
     "data": {
      "text/plain": [
       "'yandex-direct'"
      ]
     },
     "execution_count": 14,
     "metadata": {},
     "output_type": "execute_result"
    }
   ],
   "source": [
    "data \\\n",
    "    .groupby('utm_source', as_index = True)\\\n",
    "    .agg({'device_id':'nunique'})\\\n",
    "    .query('utm_source != \"-\"') \\\n",
    "    .idxmax()[0]"
   ]
  },
  {
   "cell_type": "markdown",
   "id": "304f5ff0",
   "metadata": {},
   "source": [
    "Yandex brought the most new users"
   ]
  },
  {
   "cell_type": "markdown",
   "id": "80753d5f",
   "metadata": {},
   "source": [
    "# 6. Product Funnel CR\n",
    "Analyze at what stage of the funnel most of the customers fall off. See the scenarios for registered and unregistered users separately. At what step the most registered users fall off?\n",
    "\n",
    "In response, enter one of the steps, the conversion from which (to the next step) is the lowest, in the following format: \"Search\", \"Adding a product\", \"Going to the cart\", \"Registration\".\n",
    "\n",
    "Hint:\n",
    "\n",
    "- In order to highlight the group of those who need and do not need to register, add a column with the date of registration. If the <b>registration date is < the date of the event</b>, then the user is already registered."
   ]
  },
  {
   "cell_type": "code",
   "execution_count": 15,
   "id": "df890dce",
   "metadata": {},
   "outputs": [],
   "source": [
    "data_install = data[data.event == 'app_install'][['date','device_id']]\n",
    "data_install['install_date'] = data_install.date\n",
    "data_install = data_install.drop(columns = 'date')\n",
    "data = pd.merge(data,data_install, on = 'device_id', how = 'left')\n",
    "\n",
    "# Get install_date (w/ join)"
   ]
  },
  {
   "cell_type": "code",
   "execution_count": 16,
   "id": "1778fffb",
   "metadata": {},
   "outputs": [],
   "source": [
    "data['is_registered'] = data['install_date'] < data['date']\n",
    "\n",
    "# Split by 2 registered groups"
   ]
  },
  {
   "cell_type": "code",
   "execution_count": 17,
   "id": "407ec82b",
   "metadata": {},
   "outputs": [],
   "source": [
    "conversion_rate = data.groupby('is_registered', as_index = False)['event'].value_counts()"
   ]
  },
  {
   "cell_type": "code",
   "execution_count": 18,
   "id": "134e8ea5",
   "metadata": {},
   "outputs": [],
   "source": [
    "conversion_rate['prev_value'] = conversion_rate.groupby('is_registered')['count'].shift(1)\n",
    "\n",
    "# Window function to get previous values"
   ]
  },
  {
   "cell_type": "code",
   "execution_count": 19,
   "id": "88be6ff9",
   "metadata": {},
   "outputs": [],
   "source": [
    "conversion_rate['cr_relative'] = conversion_rate['count'] / conversion_rate['prev_value']\n",
    "\n",
    "# Relative CR"
   ]
  },
  {
   "cell_type": "code",
   "execution_count": 20,
   "id": "b07b36ba",
   "metadata": {},
   "outputs": [],
   "source": [
    "conversion_rate['cr_absolute'] = conversion_rate['count'] / conversion_rate.groupby('is_registered')['count'].transform('max')\n",
    "\n",
    "# Absolute CT"
   ]
  },
  {
   "cell_type": "code",
   "execution_count": 21,
   "id": "35750f59",
   "metadata": {},
   "outputs": [],
   "source": [
    "conversion_rate = conversion_rate.drop(columns = 'prev_value')"
   ]
  },
  {
   "cell_type": "code",
   "execution_count": 22,
   "id": "c1c15d96",
   "metadata": {},
   "outputs": [
    {
     "data": {
      "text/html": [
       "<div>\n",
       "<style scoped>\n",
       "    .dataframe tbody tr th:only-of-type {\n",
       "        vertical-align: middle;\n",
       "    }\n",
       "\n",
       "    .dataframe tbody tr th {\n",
       "        vertical-align: top;\n",
       "    }\n",
       "\n",
       "    .dataframe thead th {\n",
       "        text-align: right;\n",
       "    }\n",
       "</style>\n",
       "<table border=\"1\" class=\"dataframe\">\n",
       "  <thead>\n",
       "    <tr style=\"text-align: right;\">\n",
       "      <th></th>\n",
       "      <th>is_registered</th>\n",
       "      <th>event</th>\n",
       "      <th>count</th>\n",
       "      <th>cr_relative</th>\n",
       "      <th>cr_absolute</th>\n",
       "    </tr>\n",
       "  </thead>\n",
       "  <tbody>\n",
       "    <tr>\n",
       "      <th>0</th>\n",
       "      <td>False</td>\n",
       "      <td>app_start</td>\n",
       "      <td>294601</td>\n",
       "      <td>NaN</td>\n",
       "      <td>1.000000</td>\n",
       "    </tr>\n",
       "    <tr>\n",
       "      <th>1</th>\n",
       "      <td>False</td>\n",
       "      <td>search</td>\n",
       "      <td>279408</td>\n",
       "      <td>0.948429</td>\n",
       "      <td>0.948429</td>\n",
       "    </tr>\n",
       "    <tr>\n",
       "      <th>2</th>\n",
       "      <td>False</td>\n",
       "      <td>choose_item</td>\n",
       "      <td>214456</td>\n",
       "      <td>0.767537</td>\n",
       "      <td>0.727954</td>\n",
       "    </tr>\n",
       "    <tr>\n",
       "      <th>3</th>\n",
       "      <td>False</td>\n",
       "      <td>app_install</td>\n",
       "      <td>154597</td>\n",
       "      <td>0.720880</td>\n",
       "      <td>0.524767</td>\n",
       "    </tr>\n",
       "    <tr>\n",
       "      <th>4</th>\n",
       "      <td>False</td>\n",
       "      <td>tap_basket</td>\n",
       "      <td>153127</td>\n",
       "      <td>0.990491</td>\n",
       "      <td>0.519778</td>\n",
       "    </tr>\n",
       "    <tr>\n",
       "      <th>5</th>\n",
       "      <td>False</td>\n",
       "      <td>purchase</td>\n",
       "      <td>63480</td>\n",
       "      <td>0.414558</td>\n",
       "      <td>0.215478</td>\n",
       "    </tr>\n",
       "    <tr>\n",
       "      <th>6</th>\n",
       "      <td>False</td>\n",
       "      <td>register</td>\n",
       "      <td>57232</td>\n",
       "      <td>0.901575</td>\n",
       "      <td>0.194270</td>\n",
       "    </tr>\n",
       "    <tr>\n",
       "      <th>7</th>\n",
       "      <td>True</td>\n",
       "      <td>app_start</td>\n",
       "      <td>454104</td>\n",
       "      <td>NaN</td>\n",
       "      <td>1.000000</td>\n",
       "    </tr>\n",
       "    <tr>\n",
       "      <th>8</th>\n",
       "      <td>True</td>\n",
       "      <td>search</td>\n",
       "      <td>429231</td>\n",
       "      <td>0.945226</td>\n",
       "      <td>0.945226</td>\n",
       "    </tr>\n",
       "    <tr>\n",
       "      <th>9</th>\n",
       "      <td>True</td>\n",
       "      <td>choose_item</td>\n",
       "      <td>324213</td>\n",
       "      <td>0.755335</td>\n",
       "      <td>0.713962</td>\n",
       "    </tr>\n",
       "    <tr>\n",
       "      <th>10</th>\n",
       "      <td>True</td>\n",
       "      <td>tap_basket</td>\n",
       "      <td>224538</td>\n",
       "      <td>0.692563</td>\n",
       "      <td>0.494464</td>\n",
       "    </tr>\n",
       "    <tr>\n",
       "      <th>11</th>\n",
       "      <td>True</td>\n",
       "      <td>purchase</td>\n",
       "      <td>77903</td>\n",
       "      <td>0.346948</td>\n",
       "      <td>0.171553</td>\n",
       "    </tr>\n",
       "    <tr>\n",
       "      <th>12</th>\n",
       "      <td>True</td>\n",
       "      <td>register</td>\n",
       "      <td>21078</td>\n",
       "      <td>0.270567</td>\n",
       "      <td>0.046417</td>\n",
       "    </tr>\n",
       "  </tbody>\n",
       "</table>\n",
       "</div>"
      ],
      "text/plain": [
       "    is_registered        event   count  cr_relative  cr_absolute\n",
       "0           False    app_start  294601          NaN     1.000000\n",
       "1           False       search  279408     0.948429     0.948429\n",
       "2           False  choose_item  214456     0.767537     0.727954\n",
       "3           False  app_install  154597     0.720880     0.524767\n",
       "4           False   tap_basket  153127     0.990491     0.519778\n",
       "5           False     purchase   63480     0.414558     0.215478\n",
       "6           False     register   57232     0.901575     0.194270\n",
       "7            True    app_start  454104          NaN     1.000000\n",
       "8            True       search  429231     0.945226     0.945226\n",
       "9            True  choose_item  324213     0.755335     0.713962\n",
       "10           True   tap_basket  224538     0.692563     0.494464\n",
       "11           True     purchase   77903     0.346948     0.171553\n",
       "12           True     register   21078     0.270567     0.046417"
      ]
     },
     "execution_count": 22,
     "metadata": {},
     "output_type": "execute_result"
    }
   ],
   "source": [
    "conversion_rate"
   ]
  },
  {
   "cell_type": "markdown",
   "id": "377d6011",
   "metadata": {},
   "source": [
    "tap_basket - Going from cart to purchase causes a low Conversion Rate"
   ]
  },
  {
   "cell_type": "markdown",
   "id": "d37996c8",
   "metadata": {},
   "source": [
    "# 7. Purchase CR\n",
    "Users who came from which channels showed the lowest conversion on their first purchase?\n",
    "\n",
    "In response, enter one of the channels in the following format: \"Yandex\", \"Google\", \"VK\", \"Facebook\", \"Instagram\", \"Referral program\".\n",
    "\n",
    "Hint:\n",
    "\n",
    "- CR = number of users with first purchase /number of users which opened the App for the first time "
   ]
  },
  {
   "cell_type": "code",
   "execution_count": 23,
   "id": "bc8880df",
   "metadata": {},
   "outputs": [
    {
     "data": {
      "text/html": [
       "<div>\n",
       "<style scoped>\n",
       "    .dataframe tbody tr th:only-of-type {\n",
       "        vertical-align: middle;\n",
       "    }\n",
       "\n",
       "    .dataframe tbody tr th {\n",
       "        vertical-align: top;\n",
       "    }\n",
       "\n",
       "    .dataframe thead th {\n",
       "        text-align: right;\n",
       "    }\n",
       "</style>\n",
       "<table border=\"1\" class=\"dataframe\">\n",
       "  <thead>\n",
       "    <tr style=\"text-align: right;\">\n",
       "      <th></th>\n",
       "      <th>date</th>\n",
       "      <th>event</th>\n",
       "      <th>purchase_sum</th>\n",
       "      <th>os_name</th>\n",
       "      <th>device_id</th>\n",
       "      <th>gender</th>\n",
       "      <th>city</th>\n",
       "      <th>utm_source</th>\n",
       "      <th>install_date</th>\n",
       "      <th>is_registered</th>\n",
       "    </tr>\n",
       "  </thead>\n",
       "  <tbody>\n",
       "    <tr>\n",
       "      <th>0</th>\n",
       "      <td>2020-01-01</td>\n",
       "      <td>app_start</td>\n",
       "      <td>NaN</td>\n",
       "      <td>android</td>\n",
       "      <td>669460</td>\n",
       "      <td>female</td>\n",
       "      <td>Moscow</td>\n",
       "      <td>-</td>\n",
       "      <td>2020-01-01</td>\n",
       "      <td>False</td>\n",
       "    </tr>\n",
       "    <tr>\n",
       "      <th>1</th>\n",
       "      <td>2020-01-01</td>\n",
       "      <td>app_start</td>\n",
       "      <td>NaN</td>\n",
       "      <td>ios</td>\n",
       "      <td>833621</td>\n",
       "      <td>male</td>\n",
       "      <td>Moscow</td>\n",
       "      <td>vk_ads</td>\n",
       "      <td>2020-01-01</td>\n",
       "      <td>False</td>\n",
       "    </tr>\n",
       "    <tr>\n",
       "      <th>2</th>\n",
       "      <td>2020-01-01</td>\n",
       "      <td>app_start</td>\n",
       "      <td>NaN</td>\n",
       "      <td>android</td>\n",
       "      <td>1579237</td>\n",
       "      <td>male</td>\n",
       "      <td>Saint-Petersburg</td>\n",
       "      <td>referal</td>\n",
       "      <td>NaT</td>\n",
       "      <td>False</td>\n",
       "    </tr>\n",
       "  </tbody>\n",
       "</table>\n",
       "</div>"
      ],
      "text/plain": [
       "        date      event  purchase_sum  os_name  device_id  gender  \\\n",
       "0 2020-01-01  app_start           NaN  android     669460  female   \n",
       "1 2020-01-01  app_start           NaN      ios     833621    male   \n",
       "2 2020-01-01  app_start           NaN  android    1579237    male   \n",
       "\n",
       "               city utm_source install_date  is_registered  \n",
       "0            Moscow          -   2020-01-01          False  \n",
       "1            Moscow     vk_ads   2020-01-01          False  \n",
       "2  Saint-Petersburg    referal          NaT          False  "
      ]
     },
     "execution_count": 23,
     "metadata": {},
     "output_type": "execute_result"
    }
   ],
   "source": [
    "data.head(3)"
   ]
  },
  {
   "cell_type": "code",
   "execution_count": 24,
   "id": "adf09698",
   "metadata": {},
   "outputs": [],
   "source": [
    "utm_purchases = data.query('event == \"purchase\"') \\\n",
    "                    .groupby('utm_source', as_index = True) \\\n",
    "                    .agg({'device_id':'nunique'}) \\\n",
    "                    .rename(columns = {'device_id':\"CR_utm\"})"
   ]
  },
  {
   "cell_type": "code",
   "execution_count": 25,
   "id": "b8b1bd49",
   "metadata": {},
   "outputs": [],
   "source": [
    "utm_start = data.query('event == \"app_start\"') \\\n",
    "                .groupby('utm_source', as_index = True) \\\n",
    "                .agg({'device_id':'nunique'}) \\\n",
    "                .rename(columns = {'device_id':\"CR_utm\"})"
   ]
  },
  {
   "cell_type": "code",
   "execution_count": 26,
   "id": "8a49528b",
   "metadata": {},
   "outputs": [
    {
     "data": {
      "text/html": [
       "<div>\n",
       "<style scoped>\n",
       "    .dataframe tbody tr th:only-of-type {\n",
       "        vertical-align: middle;\n",
       "    }\n",
       "\n",
       "    .dataframe tbody tr th {\n",
       "        vertical-align: top;\n",
       "    }\n",
       "\n",
       "    .dataframe thead th {\n",
       "        text-align: right;\n",
       "    }\n",
       "</style>\n",
       "<table border=\"1\" class=\"dataframe\">\n",
       "  <thead>\n",
       "    <tr style=\"text-align: right;\">\n",
       "      <th></th>\n",
       "      <th>CR_utm</th>\n",
       "    </tr>\n",
       "    <tr>\n",
       "      <th>utm_source</th>\n",
       "      <th></th>\n",
       "    </tr>\n",
       "  </thead>\n",
       "  <tbody>\n",
       "    <tr>\n",
       "      <th>-</th>\n",
       "      <td>0.317556</td>\n",
       "    </tr>\n",
       "    <tr>\n",
       "      <th>facebook_ads</th>\n",
       "      <td>0.347382</td>\n",
       "    </tr>\n",
       "    <tr>\n",
       "      <th>google_ads</th>\n",
       "      <td>0.297674</td>\n",
       "    </tr>\n",
       "    <tr>\n",
       "      <th>instagram_ads</th>\n",
       "      <td>0.346658</td>\n",
       "    </tr>\n",
       "    <tr>\n",
       "      <th>referal</th>\n",
       "      <td>0.399523</td>\n",
       "    </tr>\n",
       "    <tr>\n",
       "      <th>vk_ads</th>\n",
       "      <td>0.362804</td>\n",
       "    </tr>\n",
       "    <tr>\n",
       "      <th>yandex-direct</th>\n",
       "      <td>0.295477</td>\n",
       "    </tr>\n",
       "  </tbody>\n",
       "</table>\n",
       "</div>"
      ],
      "text/plain": [
       "                 CR_utm\n",
       "utm_source             \n",
       "-              0.317556\n",
       "facebook_ads   0.347382\n",
       "google_ads     0.297674\n",
       "instagram_ads  0.346658\n",
       "referal        0.399523\n",
       "vk_ads         0.362804\n",
       "yandex-direct  0.295477"
      ]
     },
     "execution_count": 26,
     "metadata": {},
     "output_type": "execute_result"
    }
   ],
   "source": [
    "utm_purchases / utm_start"
   ]
  },
  {
   "cell_type": "code",
   "execution_count": 27,
   "id": "9b2e52a2",
   "metadata": {},
   "outputs": [
    {
     "data": {
      "text/plain": [
       "'yandex-direct'"
      ]
     },
     "execution_count": 27,
     "metadata": {},
     "output_type": "execute_result"
    }
   ],
   "source": [
    "(utm_purchases / utm_start).idxmin()[0]"
   ]
  },
  {
   "cell_type": "markdown",
   "id": "923f7322",
   "metadata": {},
   "source": [
    "Answer: Yandex showed the lowest conversion to purchase"
   ]
  },
  {
   "cell_type": "markdown",
   "id": "0016f571",
   "metadata": {},
   "source": [
    "# 8. UTM Median first check comparison\n",
    "Users who came from which channel have a higher median first check? (only the first purchases of users are taken into account)\n",
    "\n",
    "In response, enter one of the channels in the following format: \"Yandex\", \"Google\", \"VK\", \"Facebook\", \"Instagram\", \"Referral program\"."
   ]
  },
  {
   "cell_type": "code",
   "execution_count": 28,
   "id": "203e43e1",
   "metadata": {},
   "outputs": [],
   "source": [
    "utm_median = data.sort_values(['device_id','date']).query('event == \"purchase\"')[['device_id','date','utm_source','purchase_sum']].copy()"
   ]
  },
  {
   "cell_type": "code",
   "execution_count": 29,
   "id": "146ce87c",
   "metadata": {},
   "outputs": [],
   "source": [
    "utm_median['order_number'] = utm_median.groupby('device_id').date.rank()"
   ]
  },
  {
   "cell_type": "code",
   "execution_count": 30,
   "id": "94f4801c",
   "metadata": {},
   "outputs": [
    {
     "data": {
      "text/html": [
       "<div>\n",
       "<style scoped>\n",
       "    .dataframe tbody tr th:only-of-type {\n",
       "        vertical-align: middle;\n",
       "    }\n",
       "\n",
       "    .dataframe tbody tr th {\n",
       "        vertical-align: top;\n",
       "    }\n",
       "\n",
       "    .dataframe thead th {\n",
       "        text-align: right;\n",
       "    }\n",
       "</style>\n",
       "<table border=\"1\" class=\"dataframe\">\n",
       "  <thead>\n",
       "    <tr style=\"text-align: right;\">\n",
       "      <th></th>\n",
       "      <th>median_first_purchase</th>\n",
       "    </tr>\n",
       "    <tr>\n",
       "      <th>utm_source</th>\n",
       "      <th></th>\n",
       "    </tr>\n",
       "  </thead>\n",
       "  <tbody>\n",
       "    <tr>\n",
       "      <th>referal</th>\n",
       "      <td>395.5</td>\n",
       "    </tr>\n",
       "    <tr>\n",
       "      <th>instagram_ads</th>\n",
       "      <td>393.5</td>\n",
       "    </tr>\n",
       "    <tr>\n",
       "      <th>vk_ads</th>\n",
       "      <td>393.0</td>\n",
       "    </tr>\n",
       "    <tr>\n",
       "      <th>yandex-direct</th>\n",
       "      <td>392.5</td>\n",
       "    </tr>\n",
       "    <tr>\n",
       "      <th>google_ads</th>\n",
       "      <td>390.5</td>\n",
       "    </tr>\n",
       "    <tr>\n",
       "      <th>facebook_ads</th>\n",
       "      <td>389.0</td>\n",
       "    </tr>\n",
       "  </tbody>\n",
       "</table>\n",
       "</div>"
      ],
      "text/plain": [
       "               median_first_purchase\n",
       "utm_source                          \n",
       "referal                        395.5\n",
       "instagram_ads                  393.5\n",
       "vk_ads                         393.0\n",
       "yandex-direct                  392.5\n",
       "google_ads                     390.5\n",
       "facebook_ads                   389.0"
      ]
     },
     "execution_count": 30,
     "metadata": {},
     "output_type": "execute_result"
    }
   ],
   "source": [
    "utm_mediana = utm_median.query('order_number == 1 and utm_source !=\"-\"') \\\n",
    "                        .groupby('utm_source', as_index = True) \\\n",
    "                        .agg(median_first_purchase = ('purchase_sum', 'median')) \\\n",
    "                        .sort_values('median_first_purchase', ascending = False)\n",
    "\n",
    "utm_mediana"
   ]
  },
  {
   "cell_type": "code",
   "execution_count": 31,
   "id": "ef50c224",
   "metadata": {},
   "outputs": [
    {
     "data": {
      "text/plain": [
       "'referal'"
      ]
     },
     "execution_count": 31,
     "metadata": {},
     "output_type": "execute_result"
    }
   ],
   "source": [
    "utm_mediana.idxmax()[0]"
   ]
  },
  {
   "cell_type": "markdown",
   "id": "98c2ecd1",
   "metadata": {},
   "source": [
    "Referal program has the biggest median first check"
   ]
  },
  {
   "cell_type": "markdown",
   "id": "901206ce",
   "metadata": {},
   "source": [
    "# 9. ROMI\n",
    "\n",
    "Advertising spent data:\n",
    "\n",
    "- Yandex - 10,491,707 rubles. <br>\n",
    "- Google - 10,534,878 rubles. <br>\n",
    "- Facebook - 8 590 498 rubles. <br>\n",
    "- Instagram - 8 561626 rubles. <br>\n",
    "- VK - 9 553 531 rubles.<br>\n",
    "- Referral program costs: if a user brings a friend and the latter makes the first purchase, both will receive 100 rubles.\n",
    "\n",
    "Which paid acquisition channel (among ads) has the highest ROMI?\n",
    "\n",
    "In response, enter one of the channels in the following format: \"Yandex\", \"Google\", \"VK\", \"Facebook\", \"Instagram\".\n",
    "\n",
    "\n",
    "ROMI = (\"Gross Profit\" - \"Martketing Investment) / \"Martketing Investment\""
   ]
  },
  {
   "cell_type": "code",
   "execution_count": 32,
   "id": "4f731afb",
   "metadata": {},
   "outputs": [],
   "source": [
    "reward = 100\n",
    "users = 2\n",
    "referal_spent = data.query('utm_source == \"referal\"') \\\n",
    "                    .agg({'device_id':'nunique'})[0] * users * reward\n",
    "\n",
    "# Calculate money spent on Referral program"
   ]
  },
  {
   "cell_type": "code",
   "execution_count": 33,
   "id": "ee5a2d5b",
   "metadata": {},
   "outputs": [],
   "source": [
    "d = {'vk_ads':9553531, \n",
    "              'yandex-direct':10491070, \n",
    "              'instagram_ads':8561626, \n",
    "              'google_ads':10534878, \n",
    "              'facebook_ads':8590498, \n",
    "              'referal': referal_spent}\n",
    "\n",
    "marketing_investment = pd.DataFrame(list(d.items()), columns=['utm_source', 'purchase_sum'])\n",
    "marketing_investment = marketing_investment.set_index('utm_source')"
   ]
  },
  {
   "cell_type": "code",
   "execution_count": 34,
   "id": "3b984faa",
   "metadata": {},
   "outputs": [
    {
     "data": {
      "text/html": [
       "<div>\n",
       "<style scoped>\n",
       "    .dataframe tbody tr th:only-of-type {\n",
       "        vertical-align: middle;\n",
       "    }\n",
       "\n",
       "    .dataframe tbody tr th {\n",
       "        vertical-align: top;\n",
       "    }\n",
       "\n",
       "    .dataframe thead th {\n",
       "        text-align: right;\n",
       "    }\n",
       "</style>\n",
       "<table border=\"1\" class=\"dataframe\">\n",
       "  <thead>\n",
       "    <tr style=\"text-align: right;\">\n",
       "      <th></th>\n",
       "      <th>purchase_sum</th>\n",
       "    </tr>\n",
       "    <tr>\n",
       "      <th>utm_source</th>\n",
       "      <th></th>\n",
       "    </tr>\n",
       "  </thead>\n",
       "  <tbody>\n",
       "    <tr>\n",
       "      <th>vk_ads</th>\n",
       "      <td>9553531</td>\n",
       "    </tr>\n",
       "    <tr>\n",
       "      <th>yandex-direct</th>\n",
       "      <td>10491070</td>\n",
       "    </tr>\n",
       "    <tr>\n",
       "      <th>instagram_ads</th>\n",
       "      <td>8561626</td>\n",
       "    </tr>\n",
       "    <tr>\n",
       "      <th>google_ads</th>\n",
       "      <td>10534878</td>\n",
       "    </tr>\n",
       "    <tr>\n",
       "      <th>facebook_ads</th>\n",
       "      <td>8590498</td>\n",
       "    </tr>\n",
       "    <tr>\n",
       "      <th>referal</th>\n",
       "      <td>3185200</td>\n",
       "    </tr>\n",
       "  </tbody>\n",
       "</table>\n",
       "</div>"
      ],
      "text/plain": [
       "               purchase_sum\n",
       "utm_source                 \n",
       "vk_ads              9553531\n",
       "yandex-direct      10491070\n",
       "instagram_ads       8561626\n",
       "google_ads         10534878\n",
       "facebook_ads        8590498\n",
       "referal             3185200"
      ]
     },
     "execution_count": 34,
     "metadata": {},
     "output_type": "execute_result"
    }
   ],
   "source": [
    "marketing_investment"
   ]
  },
  {
   "cell_type": "code",
   "execution_count": 35,
   "id": "dad700ad",
   "metadata": {},
   "outputs": [],
   "source": [
    "gross_profit = data.query('utm_source != \"-\" and utm_source != \"referal\"') \\\n",
    "                   .groupby('utm_source', as_index = True) \\\n",
    "                   .agg({'purchase_sum':'sum'})"
   ]
  },
  {
   "cell_type": "code",
   "execution_count": 36,
   "id": "4f347173",
   "metadata": {},
   "outputs": [],
   "source": [
    "ROMI = (gross_profit - marketing_investment) / marketing_investment"
   ]
  },
  {
   "cell_type": "code",
   "execution_count": 37,
   "id": "91fd7537",
   "metadata": {},
   "outputs": [
    {
     "data": {
      "text/html": [
       "<div>\n",
       "<style scoped>\n",
       "    .dataframe tbody tr th:only-of-type {\n",
       "        vertical-align: middle;\n",
       "    }\n",
       "\n",
       "    .dataframe tbody tr th {\n",
       "        vertical-align: top;\n",
       "    }\n",
       "\n",
       "    .dataframe thead th {\n",
       "        text-align: right;\n",
       "    }\n",
       "</style>\n",
       "<table border=\"1\" class=\"dataframe\">\n",
       "  <thead>\n",
       "    <tr style=\"text-align: right;\">\n",
       "      <th></th>\n",
       "      <th>purchase_sum</th>\n",
       "    </tr>\n",
       "    <tr>\n",
       "      <th>utm_source</th>\n",
       "      <th></th>\n",
       "    </tr>\n",
       "  </thead>\n",
       "  <tbody>\n",
       "    <tr>\n",
       "      <th>facebook_ads</th>\n",
       "      <td>0.425983</td>\n",
       "    </tr>\n",
       "    <tr>\n",
       "      <th>google_ads</th>\n",
       "      <td>0.221493</td>\n",
       "    </tr>\n",
       "    <tr>\n",
       "      <th>instagram_ads</th>\n",
       "      <td>0.699090</td>\n",
       "    </tr>\n",
       "    <tr>\n",
       "      <th>referal</th>\n",
       "      <td>NaN</td>\n",
       "    </tr>\n",
       "    <tr>\n",
       "      <th>vk_ads</th>\n",
       "      <td>0.715560</td>\n",
       "    </tr>\n",
       "    <tr>\n",
       "      <th>yandex-direct</th>\n",
       "      <td>0.326401</td>\n",
       "    </tr>\n",
       "  </tbody>\n",
       "</table>\n",
       "</div>"
      ],
      "text/plain": [
       "               purchase_sum\n",
       "utm_source                 \n",
       "facebook_ads       0.425983\n",
       "google_ads         0.221493\n",
       "instagram_ads      0.699090\n",
       "referal                 NaN\n",
       "vk_ads             0.715560\n",
       "yandex-direct      0.326401"
      ]
     },
     "execution_count": 37,
     "metadata": {},
     "output_type": "execute_result"
    }
   ],
   "source": [
    "ROMI"
   ]
  },
  {
   "cell_type": "code",
   "execution_count": 38,
   "id": "f73d9c7f",
   "metadata": {},
   "outputs": [
    {
     "data": {
      "text/plain": [
       "'vk_ads'"
      ]
     },
     "execution_count": 38,
     "metadata": {},
     "output_type": "execute_result"
    }
   ],
   "source": [
    "ROMI.idxmax()[0]"
   ]
  },
  {
   "cell_type": "markdown",
   "id": "9f51f41c",
   "metadata": {},
   "source": [
    "VK Ads has the highest ROMI between paid channels"
   ]
  }
 ],
 "metadata": {
  "kernelspec": {
   "display_name": "Python 3 (ipykernel)",
   "language": "python",
   "name": "python3"
  },
  "language_info": {
   "codemirror_mode": {
    "name": "ipython",
    "version": 3
   },
   "file_extension": ".py",
   "mimetype": "text/x-python",
   "name": "python",
   "nbconvert_exporter": "python",
   "pygments_lexer": "ipython3",
   "version": "3.9.13"
  }
 },
 "nbformat": 4,
 "nbformat_minor": 5
}
