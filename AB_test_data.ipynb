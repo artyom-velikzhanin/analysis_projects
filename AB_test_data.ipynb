{
 "cells": [
  {
   "cell_type": "markdown",
   "id": "bb09e231",
   "metadata": {},
   "source": [
    "#### Kaggle Dataset\n",
    "\n",
    "https://www.kaggle.com/datasets/sergylog/ab-test-data"
   ]
  },
  {
   "cell_type": "markdown",
   "id": "cb4019a9",
   "metadata": {},
   "source": [
    "# A/B test data\n",
    "\n",
    "Experiment user data with two groups and revenue column"
   ]
  },
  {
   "cell_type": "markdown",
   "id": "38916711",
   "metadata": {},
   "source": [
    "## About Dataset\n",
    "The site launched an A/B test in order to increase income. The excel file contains raw data on the results of the experiment (userid), sample type (variantname) and income brought by the user (revenue).\n",
    "\n",
    "The task is to analyze the results of the experiment and write your recommendations."
   ]
  },
  {
   "cell_type": "code",
   "execution_count": 61,
   "id": "981278c7",
   "metadata": {},
   "outputs": [],
   "source": [
    "# data\n",
    "import pandas as pd\n",
    "import numpy as np\n",
    "\n",
    "# statistics\n",
    "from scipy import stats\n",
    "from scipy.stats import norm\n",
    "\n",
    "# visualisation\n",
    "import seaborn as sns\n",
    "import matplotlib.pyplot as plt\n",
    "%matplotlib inline\n",
    "\n",
    "import warnings\n",
    "warnings.filterwarnings(\"ignore\")"
   ]
  },
  {
   "cell_type": "code",
   "execution_count": 2,
   "id": "74a66ee9",
   "metadata": {},
   "outputs": [],
   "source": [
    "data = pd.read_csv('AB_Test_Results.csv')"
   ]
  },
  {
   "cell_type": "code",
   "execution_count": 3,
   "id": "8b71ee95",
   "metadata": {},
   "outputs": [
    {
     "data": {
      "text/plain": [
       "USER_ID           int64\n",
       "VARIANT_NAME     object\n",
       "REVENUE         float64\n",
       "dtype: object"
      ]
     },
     "execution_count": 3,
     "metadata": {},
     "output_type": "execute_result"
    }
   ],
   "source": [
    "data.dtypes"
   ]
  },
  {
   "cell_type": "code",
   "execution_count": 4,
   "id": "9acd641b",
   "metadata": {},
   "outputs": [
    {
     "data": {
      "text/plain": [
       "USER_ID         0\n",
       "VARIANT_NAME    0\n",
       "REVENUE         0\n",
       "dtype: int64"
      ]
     },
     "execution_count": 4,
     "metadata": {},
     "output_type": "execute_result"
    }
   ],
   "source": [
    "data.isna().sum()"
   ]
  },
  {
   "cell_type": "code",
   "execution_count": 5,
   "id": "35dcc249",
   "metadata": {},
   "outputs": [],
   "source": [
    "data = data.rename(columns = {'USER_ID':'id', 'VARIANT_NAME':'variant', 'REVENUE':'revenue'})"
   ]
  },
  {
   "cell_type": "code",
   "execution_count": 6,
   "id": "dcb216c5",
   "metadata": {},
   "outputs": [
    {
     "data": {
      "text/html": [
       "<div>\n",
       "<style scoped>\n",
       "    .dataframe tbody tr th:only-of-type {\n",
       "        vertical-align: middle;\n",
       "    }\n",
       "\n",
       "    .dataframe tbody tr th {\n",
       "        vertical-align: top;\n",
       "    }\n",
       "\n",
       "    .dataframe thead th {\n",
       "        text-align: right;\n",
       "    }\n",
       "</style>\n",
       "<table border=\"1\" class=\"dataframe\">\n",
       "  <thead>\n",
       "    <tr style=\"text-align: right;\">\n",
       "      <th></th>\n",
       "      <th>id</th>\n",
       "      <th>variant</th>\n",
       "      <th>revenue</th>\n",
       "    </tr>\n",
       "  </thead>\n",
       "  <tbody>\n",
       "    <tr>\n",
       "      <th>0</th>\n",
       "      <td>737</td>\n",
       "      <td>variant</td>\n",
       "      <td>0.0</td>\n",
       "    </tr>\n",
       "    <tr>\n",
       "      <th>1</th>\n",
       "      <td>2423</td>\n",
       "      <td>control</td>\n",
       "      <td>0.0</td>\n",
       "    </tr>\n",
       "    <tr>\n",
       "      <th>2</th>\n",
       "      <td>9411</td>\n",
       "      <td>control</td>\n",
       "      <td>0.0</td>\n",
       "    </tr>\n",
       "    <tr>\n",
       "      <th>3</th>\n",
       "      <td>7311</td>\n",
       "      <td>control</td>\n",
       "      <td>0.0</td>\n",
       "    </tr>\n",
       "    <tr>\n",
       "      <th>4</th>\n",
       "      <td>6174</td>\n",
       "      <td>variant</td>\n",
       "      <td>0.0</td>\n",
       "    </tr>\n",
       "  </tbody>\n",
       "</table>\n",
       "</div>"
      ],
      "text/plain": [
       "     id  variant  revenue\n",
       "0   737  variant      0.0\n",
       "1  2423  control      0.0\n",
       "2  9411  control      0.0\n",
       "3  7311  control      0.0\n",
       "4  6174  variant      0.0"
      ]
     },
     "execution_count": 6,
     "metadata": {},
     "output_type": "execute_result"
    }
   ],
   "source": [
    "data.head()"
   ]
  },
  {
   "cell_type": "code",
   "execution_count": 7,
   "id": "cc2a6b19",
   "metadata": {},
   "outputs": [
    {
     "data": {
      "text/html": [
       "<div>\n",
       "<style scoped>\n",
       "    .dataframe tbody tr th:only-of-type {\n",
       "        vertical-align: middle;\n",
       "    }\n",
       "\n",
       "    .dataframe tbody tr th {\n",
       "        vertical-align: top;\n",
       "    }\n",
       "\n",
       "    .dataframe thead th {\n",
       "        text-align: right;\n",
       "    }\n",
       "</style>\n",
       "<table border=\"1\" class=\"dataframe\">\n",
       "  <thead>\n",
       "    <tr style=\"text-align: right;\">\n",
       "      <th></th>\n",
       "      <th>id</th>\n",
       "      <th>revenue</th>\n",
       "    </tr>\n",
       "  </thead>\n",
       "  <tbody>\n",
       "    <tr>\n",
       "      <th>count</th>\n",
       "      <td>10000.000000</td>\n",
       "      <td>10000.000000</td>\n",
       "    </tr>\n",
       "    <tr>\n",
       "      <th>mean</th>\n",
       "      <td>4981.080200</td>\n",
       "      <td>0.099447</td>\n",
       "    </tr>\n",
       "    <tr>\n",
       "      <th>std</th>\n",
       "      <td>2890.590115</td>\n",
       "      <td>2.318529</td>\n",
       "    </tr>\n",
       "    <tr>\n",
       "      <th>min</th>\n",
       "      <td>2.000000</td>\n",
       "      <td>0.000000</td>\n",
       "    </tr>\n",
       "    <tr>\n",
       "      <th>25%</th>\n",
       "      <td>2468.750000</td>\n",
       "      <td>0.000000</td>\n",
       "    </tr>\n",
       "    <tr>\n",
       "      <th>50%</th>\n",
       "      <td>4962.000000</td>\n",
       "      <td>0.000000</td>\n",
       "    </tr>\n",
       "    <tr>\n",
       "      <th>75%</th>\n",
       "      <td>7511.500000</td>\n",
       "      <td>0.000000</td>\n",
       "    </tr>\n",
       "    <tr>\n",
       "      <th>max</th>\n",
       "      <td>10000.000000</td>\n",
       "      <td>196.010000</td>\n",
       "    </tr>\n",
       "  </tbody>\n",
       "</table>\n",
       "</div>"
      ],
      "text/plain": [
       "                 id       revenue\n",
       "count  10000.000000  10000.000000\n",
       "mean    4981.080200      0.099447\n",
       "std     2890.590115      2.318529\n",
       "min        2.000000      0.000000\n",
       "25%     2468.750000      0.000000\n",
       "50%     4962.000000      0.000000\n",
       "75%     7511.500000      0.000000\n",
       "max    10000.000000    196.010000"
      ]
     },
     "execution_count": 7,
     "metadata": {},
     "output_type": "execute_result"
    }
   ],
   "source": [
    "data.describe()"
   ]
  },
  {
   "cell_type": "code",
   "execution_count": 8,
   "id": "c81a0021",
   "metadata": {},
   "outputs": [
    {
     "data": {
      "text/plain": [
       "variant    5016\n",
       "control    4984\n",
       "Name: variant, dtype: int64"
      ]
     },
     "execution_count": 8,
     "metadata": {},
     "output_type": "execute_result"
    }
   ],
   "source": [
    "data.variant.value_counts()"
   ]
  },
  {
   "cell_type": "markdown",
   "id": "1f8e7ecc",
   "metadata": {},
   "source": [
    "### Groups:\n",
    "variant = Treatment/Test group\n",
    "\n",
    "control = Control group"
   ]
  },
  {
   "cell_type": "markdown",
   "id": "4833b7df",
   "metadata": {},
   "source": [
    "## Users in both groups\n",
    "So let's find out if we have users, which appeared in both groups. If we do, we'll drop them, because they will effect on experiment."
   ]
  },
  {
   "cell_type": "code",
   "execution_count": 9,
   "id": "4904c604",
   "metadata": {},
   "outputs": [
    {
     "data": {
      "text/plain": [
       "variant\n",
       "1          4783\n",
       "2          1541\n",
       "dtype: int64"
      ]
     },
     "execution_count": 9,
     "metadata": {},
     "output_type": "execute_result"
    }
   ],
   "source": [
    "num_of_groups = data.groupby('id') \\\n",
    "                    .agg({'variant':'nunique'}) \\\n",
    "                    .value_counts()\n",
    "num_of_groups"
   ]
  },
  {
   "cell_type": "code",
   "execution_count": 10,
   "id": "cff854c2",
   "metadata": {},
   "outputs": [
    {
     "data": {
      "text/plain": [
       "variant\n",
       "1          0.756325\n",
       "2          0.243675\n",
       "dtype: float64"
      ]
     },
     "execution_count": 10,
     "metadata": {},
     "output_type": "execute_result"
    }
   ],
   "source": [
    "num_of_groups / num_of_groups.sum()"
   ]
  },
  {
   "cell_type": "markdown",
   "id": "dc38d4d3",
   "metadata": {},
   "source": [
    "So over 24% of users are in both groups. Let's drop them"
   ]
  },
  {
   "cell_type": "code",
   "execution_count": 11,
   "id": "e411471e",
   "metadata": {},
   "outputs": [],
   "source": [
    "# first, let's see which users have 1 ab test group and then take only these users\n",
    "single_variant_users = data \\\n",
    "                        .groupby('id', as_index = False) \\\n",
    "                        .agg({'variant':'nunique'}) \\\n",
    "                        .query('variant == 1') \\\n",
    "                        .id"
   ]
  },
  {
   "cell_type": "code",
   "execution_count": 12,
   "id": "56f1c560",
   "metadata": {},
   "outputs": [
    {
     "data": {
      "text/plain": [
       "True"
      ]
     },
     "execution_count": 12,
     "metadata": {},
     "output_type": "execute_result"
    }
   ],
   "source": [
    "# leave only records with users with the 1st ab test group\n",
    "data = data[data.id.isin(single_variant_users)]\n",
    "\n",
    "# check that the number of users matches what it was before the exception\n",
    "data.groupby('id')['variant'].nunique().value_counts().iloc[0] == num_of_groups.iloc[0]"
   ]
  },
  {
   "cell_type": "markdown",
   "id": "84aba14e",
   "metadata": {},
   "source": [
    "Let's see a distribution of the data:"
   ]
  },
  {
   "cell_type": "code",
   "execution_count": 13,
   "id": "5c17d442",
   "metadata": {},
   "outputs": [
    {
     "data": {
      "text/plain": [
       "<AxesSubplot:xlabel='variant', ylabel='revenue'>"
      ]
     },
     "execution_count": 13,
     "metadata": {},
     "output_type": "execute_result"
    },
    {
     "data": {
      "image/png": "[encoded data removed]",
      "text/plain": [
       "<Figure size 640x480 with 1 Axes>"
      ]
     },
     "metadata": {},
     "output_type": "display_data"
    }
   ],
   "source": [
    "sns.boxplot(data = data, x = 'variant', y = 'revenue')"
   ]
  },
  {
   "cell_type": "markdown",
   "id": "eb20927e",
   "metadata": {},
   "source": [
    "So there is one outlier, that we must find and delete it"
   ]
  },
  {
   "cell_type": "code",
   "execution_count": 14,
   "id": "82fbe094",
   "metadata": {},
   "outputs": [
    {
     "data": {
      "text/html": [
       "<div>\n",
       "<style scoped>\n",
       "    .dataframe tbody tr th:only-of-type {\n",
       "        vertical-align: middle;\n",
       "    }\n",
       "\n",
       "    .dataframe tbody tr th {\n",
       "        vertical-align: top;\n",
       "    }\n",
       "\n",
       "    .dataframe thead th {\n",
       "        text-align: right;\n",
       "    }\n",
       "</style>\n",
       "<table border=\"1\" class=\"dataframe\">\n",
       "  <thead>\n",
       "    <tr style=\"text-align: right;\">\n",
       "      <th></th>\n",
       "      <th>id</th>\n",
       "      <th>variant</th>\n",
       "      <th>revenue</th>\n",
       "    </tr>\n",
       "  </thead>\n",
       "  <tbody>\n",
       "    <tr>\n",
       "      <th>1437</th>\n",
       "      <td>3342</td>\n",
       "      <td>control</td>\n",
       "      <td>196.01</td>\n",
       "    </tr>\n",
       "    <tr>\n",
       "      <th>8168</th>\n",
       "      <td>2166</td>\n",
       "      <td>control</td>\n",
       "      <td>29.32</td>\n",
       "    </tr>\n",
       "    <tr>\n",
       "      <th>2482</th>\n",
       "      <td>7356</td>\n",
       "      <td>variant</td>\n",
       "      <td>23.04</td>\n",
       "    </tr>\n",
       "  </tbody>\n",
       "</table>\n",
       "</div>"
      ],
      "text/plain": [
       "        id  variant  revenue\n",
       "1437  3342  control   196.01\n",
       "8168  2166  control    29.32\n",
       "2482  7356  variant    23.04"
      ]
     },
     "execution_count": 14,
     "metadata": {},
     "output_type": "execute_result"
    }
   ],
   "source": [
    "data.sort_values(by = 'revenue', ascending = False)[:3]\n",
    "\n",
    "# user with id = 3342 will be deleted from the records"
   ]
  },
  {
   "cell_type": "code",
   "execution_count": 15,
   "id": "c0bd277b",
   "metadata": {},
   "outputs": [],
   "source": [
    "data = data[data.id != 3342]"
   ]
  },
  {
   "cell_type": "code",
   "execution_count": 16,
   "id": "9b0eec6d",
   "metadata": {},
   "outputs": [
    {
     "data": {
      "text/plain": [
       "([<matplotlib.axis.XTick at 0x1c0145905b0>,\n",
       "  <matplotlib.axis.XTick at 0x1c014590400>],\n",
       " [Text(0, 0, 'control'), Text(1, 0, 'variant')])"
      ]
     },
     "execution_count": 16,
     "metadata": {},
     "output_type": "execute_result"
    },
    {
     "data": {
      "image/png": "[encoded data removed]",
      "text/plain": [
       "<Figure size 500x1000 with 2 Axes>"
      ]
     },
     "metadata": {},
     "output_type": "display_data"
    }
   ],
   "source": [
    "f, axes = plt.subplots(2, sharex=True, figsize=(5,10))\n",
    "sns.boxplot(ax = axes[0], data = data, x = 'variant', y = 'revenue')\n",
    "sns.boxplot(ax = axes[1], data = data[data.revenue > 0], x = 'variant', y= 'revenue')\n",
    "plt.xticks(np.arange(2), ('control', 'variant'))"
   ]
  },
  {
   "cell_type": "markdown",
   "id": "ffbadec8",
   "metadata": {},
   "source": [
    "We see that a lot of users have no purchases. Let's check if there are users which have multiple records (Example: they visited multiple times, but bought only once)."
   ]
  },
  {
   "cell_type": "code",
   "execution_count": 17,
   "id": "3df3cfda",
   "metadata": {},
   "outputs": [
    {
     "data": {
      "text/plain": [
       "52"
      ]
     },
     "execution_count": 17,
     "metadata": {},
     "output_type": "execute_result"
    }
   ],
   "source": [
    "data[\n",
    "    (data['revenue'] == 0) &\n",
    "    data['id'].isin( data[data.revenue > 0]['id'] )\n",
    "    ].shape[0]"
   ]
  },
  {
   "cell_type": "markdown",
   "id": "72105a41",
   "metadata": {},
   "source": [
    "52 users have multiple records, let's sum these records, to make single row for each user."
   ]
  },
  {
   "cell_type": "code",
   "execution_count": 18,
   "id": "15e67197",
   "metadata": {},
   "outputs": [],
   "source": [
    "data = data \\\n",
    "        .groupby(['id','variant'], as_index = False) \\\n",
    "        .agg({'revenue':'sum'})"
   ]
  },
  {
   "cell_type": "markdown",
   "id": "82304625",
   "metadata": {},
   "source": [
    "Let's look at the resulting distributions"
   ]
  },
  {
   "cell_type": "code",
   "execution_count": 19,
   "id": "3381eeb6",
   "metadata": {},
   "outputs": [
    {
     "data": {
      "text/plain": [
       "([<matplotlib.axis.XTick at 0x1c0146904f0>,\n",
       "  <matplotlib.axis.XTick at 0x1c014690070>],\n",
       " [Text(0, 0, 'control'), Text(1, 0, 'variant')])"
      ]
     },
     "execution_count": 19,
     "metadata": {},
     "output_type": "execute_result"
    },
    {
     "data": {
      "image/png": "[encoded data removed]",
      "text/plain": [
       "<Figure size 500x1000 with 2 Axes>"
      ]
     },
     "metadata": {},
     "output_type": "display_data"
    }
   ],
   "source": [
    "f, axes = plt.subplots(2, sharex=True, figsize=(5,10))\n",
    "sns.boxplot(ax = axes[0], data = data, x = 'variant', y = 'revenue')\n",
    "sns.boxplot(ax = axes[1], data = data[data.revenue > 0], x = 'variant', y= 'revenue')\n",
    "plt.xticks(np.arange(2), ('control', 'variant'))"
   ]
  },
  {
   "cell_type": "markdown",
   "id": "ad30192c",
   "metadata": {},
   "source": [
    "Quartiles has changed.\n",
    "\n",
    "Now it's time to look at statistics in the context of AB test groups for all users"
   ]
  },
  {
   "cell_type": "code",
   "execution_count": 20,
   "id": "d29fcf94",
   "metadata": {},
   "outputs": [
    {
     "data": {
      "text/html": [
       "<div>\n",
       "<style scoped>\n",
       "    .dataframe tbody tr th:only-of-type {\n",
       "        vertical-align: middle;\n",
       "    }\n",
       "\n",
       "    .dataframe tbody tr th {\n",
       "        vertical-align: top;\n",
       "    }\n",
       "\n",
       "    .dataframe thead tr th {\n",
       "        text-align: left;\n",
       "    }\n",
       "</style>\n",
       "<table border=\"1\" class=\"dataframe\">\n",
       "  <thead>\n",
       "    <tr>\n",
       "      <th></th>\n",
       "      <th>variant</th>\n",
       "      <th>id</th>\n",
       "      <th colspan=\"4\" halign=\"left\">revenue</th>\n",
       "      <th colspan=\"2\" halign=\"left\">per_user</th>\n",
       "    </tr>\n",
       "    <tr>\n",
       "      <th></th>\n",
       "      <th></th>\n",
       "      <th>nunique</th>\n",
       "      <th>sum</th>\n",
       "      <th>mean</th>\n",
       "      <th>median</th>\n",
       "      <th>count</th>\n",
       "      <th>orders</th>\n",
       "      <th>revenue</th>\n",
       "    </tr>\n",
       "  </thead>\n",
       "  <tbody>\n",
       "    <tr>\n",
       "      <th>0</th>\n",
       "      <td>control</td>\n",
       "      <td>2389</td>\n",
       "      <td>274.55</td>\n",
       "      <td>0.114923</td>\n",
       "      <td>0.0</td>\n",
       "      <td>2389</td>\n",
       "      <td>1.0</td>\n",
       "      <td>0.114923</td>\n",
       "    </tr>\n",
       "    <tr>\n",
       "      <th>1</th>\n",
       "      <td>variant</td>\n",
       "      <td>2393</td>\n",
       "      <td>179.32</td>\n",
       "      <td>0.074935</td>\n",
       "      <td>0.0</td>\n",
       "      <td>2393</td>\n",
       "      <td>1.0</td>\n",
       "      <td>0.074935</td>\n",
       "    </tr>\n",
       "  </tbody>\n",
       "</table>\n",
       "</div>"
      ],
      "text/plain": [
       "   variant      id revenue                        per_user          \n",
       "           nunique     sum      mean median count   orders   revenue\n",
       "0  control    2389  274.55  0.114923    0.0  2389      1.0  0.114923\n",
       "1  variant    2393  179.32  0.074935    0.0  2393      1.0  0.074935"
      ]
     },
     "execution_count": 20,
     "metadata": {},
     "output_type": "execute_result"
    }
   ],
   "source": [
    "# get metrics by groups\n",
    "all_stats = data \\\n",
    "    .groupby(['variant'], as_index = False) \\\n",
    "    .agg({'id':'nunique', \\\n",
    "          'revenue': ['sum', 'mean', 'median', 'count']})\n",
    "\n",
    "# create two additional metrics to see relative changes\n",
    "orders_per_user = all_stats['revenue']['count'] / all_stats['id']['nunique']\n",
    "revenue_per_user = all_stats['revenue']['sum'] / all_stats['id']['nunique']\n",
    "\n",
    "# add them to the rest of the metrics in a separate group\n",
    "all_stats.loc[:, ('per_user', 'orders')] = orders_per_user\n",
    "all_stats.loc[:, ('per_user', 'revenue')] = revenue_per_user\n",
    "\n",
    "all_stats"
   ]
  },
  {
   "cell_type": "markdown",
   "id": "e3e805ed",
   "metadata": {},
   "source": [
    "We see that in the test group, the total amount of revenue and the average check per user decreased, but the number of orders per user slightly increased.\n",
    "\n",
    "Let's also see how paying users behave.\n"
   ]
  },
  {
   "cell_type": "code",
   "execution_count": 21,
   "id": "a45dde21",
   "metadata": {},
   "outputs": [
    {
     "data": {
      "text/html": [
       "<div>\n",
       "<style scoped>\n",
       "    .dataframe tbody tr th:only-of-type {\n",
       "        vertical-align: middle;\n",
       "    }\n",
       "\n",
       "    .dataframe tbody tr th {\n",
       "        vertical-align: top;\n",
       "    }\n",
       "\n",
       "    .dataframe thead tr th {\n",
       "        text-align: left;\n",
       "    }\n",
       "</style>\n",
       "<table border=\"1\" class=\"dataframe\">\n",
       "  <thead>\n",
       "    <tr>\n",
       "      <th></th>\n",
       "      <th>variant</th>\n",
       "      <th>id</th>\n",
       "      <th colspan=\"4\" halign=\"left\">revenue</th>\n",
       "      <th colspan=\"2\" halign=\"left\">per_user</th>\n",
       "    </tr>\n",
       "    <tr>\n",
       "      <th></th>\n",
       "      <th></th>\n",
       "      <th>nunique</th>\n",
       "      <th>sum</th>\n",
       "      <th>mean</th>\n",
       "      <th>median</th>\n",
       "      <th>count</th>\n",
       "      <th>orders</th>\n",
       "      <th>revenue</th>\n",
       "    </tr>\n",
       "  </thead>\n",
       "  <tbody>\n",
       "    <tr>\n",
       "      <th>0</th>\n",
       "      <td>control</td>\n",
       "      <td>53</td>\n",
       "      <td>274.55</td>\n",
       "      <td>5.180189</td>\n",
       "      <td>2.99</td>\n",
       "      <td>53</td>\n",
       "      <td>1.0</td>\n",
       "      <td>5.180189</td>\n",
       "    </tr>\n",
       "    <tr>\n",
       "      <th>1</th>\n",
       "      <td>variant</td>\n",
       "      <td>42</td>\n",
       "      <td>179.32</td>\n",
       "      <td>4.269524</td>\n",
       "      <td>2.97</td>\n",
       "      <td>42</td>\n",
       "      <td>1.0</td>\n",
       "      <td>4.269524</td>\n",
       "    </tr>\n",
       "  </tbody>\n",
       "</table>\n",
       "</div>"
      ],
      "text/plain": [
       "   variant      id revenue                        per_user          \n",
       "           nunique     sum      mean median count   orders   revenue\n",
       "0  control      53  274.55  5.180189   2.99    53      1.0  5.180189\n",
       "1  variant      42  179.32  4.269524   2.97    42      1.0  4.269524"
      ]
     },
     "execution_count": 21,
     "metadata": {},
     "output_type": "execute_result"
    }
   ],
   "source": [
    "paid_stats = data[data.revenue > 0] \\\n",
    "    .groupby(['variant'], as_index = False) \\\n",
    "    .agg({'id':'nunique', \\\n",
    "          'revenue': ['sum', 'mean', 'median', 'count']})\n",
    "\n",
    "# create two additional metrics to see relative changes\n",
    "orders_per_user = paid_stats['revenue']['count'] / paid_stats['id']['nunique']\n",
    "revenue_per_user = paid_stats['revenue']['sum'] / paid_stats['id']['nunique']\n",
    "\n",
    "# add them to the rest of the metrics in a separate group\n",
    "paid_stats.loc[:, ('per_user', 'orders')] = orders_per_user\n",
    "paid_stats.loc[:, ('per_user', 'revenue')] = revenue_per_user\n",
    "\n",
    "paid_stats"
   ]
  },
  {
   "cell_type": "code",
   "execution_count": 22,
   "id": "e6bc9e46",
   "metadata": {},
   "outputs": [
    {
     "data": {
      "image/png": "[encoded data removed]",
      "text/plain": [
       "<Figure size 1000x800 with 2 Axes>"
      ]
     },
     "metadata": {},
     "output_type": "display_data"
    }
   ],
   "source": [
    "f, axes = plt.subplots(2, figsize=(10,8))\n",
    "# build graphs of distributions of all users\n",
    "sns.distplot(data.loc[data['variant'] == 'control', 'revenue'], ax = axes[0], label='control')\n",
    "sns.distplot(data.loc[data['variant'] == 'variant', 'revenue'], ax = axes[0], label='variant')\n",
    "axes[0].set_title('Distribution of revenue of all users')\n",
    "\n",
    "# build graphs of distributions of paying users\n",
    "sns.distplot(data.loc[(data['variant'] == 'control') & (data['revenue'] > 0), 'revenue'], ax = axes[1], label='control' )\n",
    "sns.distplot(data.loc[(data['variant'] == 'variant') & (data['revenue'] > 0), 'revenue'], ax = axes[1], label='variant' )\n",
    "axes[1].set_title('Paying user revenue distribution')\n",
    "plt.legend()\n",
    "plt.subplots_adjust(hspace = 0.3)"
   ]
  },
  {
   "cell_type": "markdown",
   "id": "04bdb481",
   "metadata": {},
   "source": [
    "Right tail"
   ]
  },
  {
   "cell_type": "markdown",
   "id": "1ae5a1e5",
   "metadata": {},
   "source": [
    "# Statistical analysis"
   ]
  },
  {
   "cell_type": "markdown",
   "id": "a9d7e52b",
   "metadata": {},
   "source": [
    "## t-test\n",
    "\n",
    "Since revenue distributed not normally, let's try to logarithm this column. To avoid \"log(0) = inf\" we will add a constant C = 1"
   ]
  },
  {
   "cell_type": "code",
   "execution_count": 23,
   "id": "90db884b",
   "metadata": {},
   "outputs": [],
   "source": [
    "data_log = data.copy()"
   ]
  },
  {
   "cell_type": "code",
   "execution_count": 24,
   "id": "ab112db9",
   "metadata": {},
   "outputs": [],
   "source": [
    "data_log.revenue += 1"
   ]
  },
  {
   "cell_type": "code",
   "execution_count": 25,
   "id": "4b4abe0c",
   "metadata": {},
   "outputs": [],
   "source": [
    "data_log['log_revenue'] = np.log(data_log.revenue)"
   ]
  },
  {
   "cell_type": "code",
   "execution_count": 26,
   "id": "7cfe9692",
   "metadata": {},
   "outputs": [
    {
     "data": {
      "text/plain": [
       "<AxesSubplot:xlabel='log_revenue', ylabel='Count'>"
      ]
     },
     "execution_count": 26,
     "metadata": {},
     "output_type": "execute_result"
    },
    {
     "data": {
      "image/png": "[encoded data removed]",
      "text/plain": [
       "<Figure size 640x480 with 1 Axes>"
      ]
     },
     "metadata": {},
     "output_type": "display_data"
    }
   ],
   "source": [
    "sns.histplot(data_log.log_revenue)"
   ]
  },
  {
   "cell_type": "markdown",
   "id": "78ef0aa5",
   "metadata": {},
   "source": [
    "Nothing changed, but let's check homoscedasticity of variances and try normal test."
   ]
  },
  {
   "cell_type": "markdown",
   "id": "5cccda28",
   "metadata": {},
   "source": [
    "#### homoscedasticity - Levene"
   ]
  },
  {
   "cell_type": "code",
   "execution_count": 27,
   "id": "31564196",
   "metadata": {},
   "outputs": [
    {
     "data": {
      "text/plain": [
       "LeveneResult(statistic=1.801920795937881, pvalue=0.17954420195095716)"
      ]
     },
     "execution_count": 27,
     "metadata": {},
     "output_type": "execute_result"
    }
   ],
   "source": [
    "stats.levene(data_log[data_log.variant == 'variant'].log_revenue, \\\n",
    "             data_log[data_log.variant == 'control'].log_revenue)\n",
    "\n",
    "# logarithmed data test"
   ]
  },
  {
   "cell_type": "code",
   "execution_count": 28,
   "id": "5af9ec4f",
   "metadata": {},
   "outputs": [
    {
     "data": {
      "text/plain": [
       "LeveneResult(statistic=1.8315496300786236, pvalue=0.17600861562570844)"
      ]
     },
     "execution_count": 28,
     "metadata": {},
     "output_type": "execute_result"
    }
   ],
   "source": [
    "stats.levene(data[data.variant == 'variant'].revenue, \\\n",
    "             data[data.variant == 'control'].revenue)\n",
    "\n",
    "# default data test"
   ]
  },
  {
   "cell_type": "markdown",
   "id": "c677f2aa",
   "metadata": {},
   "source": [
    "Pvalue = 0.18 , that means there is no statistical difference between groups variances.\n",
    "\n",
    "\\* Levene’s test is an alternative to Bartlett’s test bartlett in the case where there are significant deviations from normality."
   ]
  },
  {
   "cell_type": "markdown",
   "id": "c9775f33",
   "metadata": {},
   "source": [
    "#### normal test"
   ]
  },
  {
   "cell_type": "code",
   "execution_count": 29,
   "id": "7cf2838a",
   "metadata": {},
   "outputs": [
    {
     "data": {
      "text/plain": [
       "ShapiroResult(statistic=0.10447388887405396, pvalue=0.0)"
      ]
     },
     "execution_count": 29,
     "metadata": {},
     "output_type": "execute_result"
    }
   ],
   "source": [
    "stats.shapiro(data_log.log_revenue)"
   ]
  },
  {
   "cell_type": "code",
   "execution_count": 30,
   "id": "d64f41f9",
   "metadata": {},
   "outputs": [
    {
     "data": {
      "text/plain": [
       "NormaltestResult(statistic=7084.042917001436, pvalue=0.0)"
      ]
     },
     "execution_count": 30,
     "metadata": {},
     "output_type": "execute_result"
    }
   ],
   "source": [
    "stats.normaltest(data_log.log_revenue)"
   ]
  },
  {
   "cell_type": "markdown",
   "id": "89963bf2",
   "metadata": {},
   "source": [
    "Distribution isnt normal, but it doesnt affect to t-test (https://koch-kir.medium.com/история-одного-обмана-или-требования-к-распределению-в-статистических-тестах-55139a5558d)"
   ]
  },
  {
   "cell_type": "markdown",
   "id": "42c68d9b",
   "metadata": {},
   "source": [
    "#### t-test"
   ]
  },
  {
   "cell_type": "code",
   "execution_count": 31,
   "id": "3d418677",
   "metadata": {},
   "outputs": [
    {
     "data": {
      "text/plain": [
       "Ttest_indResult(statistic=-1.353347564404142, pvalue=0.1760086156257086)"
      ]
     },
     "execution_count": 31,
     "metadata": {},
     "output_type": "execute_result"
    }
   ],
   "source": [
    "stats.ttest_ind(data[data.variant == 'variant'].revenue, \\\n",
    "                data[data.variant == 'control'].revenue)\n"
   ]
  },
  {
   "cell_type": "markdown",
   "id": "4e7750f3",
   "metadata": {},
   "source": [
    "Pvalue = 0.18\n",
    "\n",
    "According to t-test - there is no statistical difference between Control and Variant groups."
   ]
  },
  {
   "cell_type": "markdown",
   "id": "6c6151d2",
   "metadata": {},
   "source": [
    "And those who pay:"
   ]
  },
  {
   "cell_type": "code",
   "execution_count": 32,
   "id": "788be4d7",
   "metadata": {},
   "outputs": [
    {
     "data": {
      "text/plain": [
       "Ttest_indResult(statistic=-0.7968567151823726, pvalue=0.42756390222211027)"
      ]
     },
     "execution_count": 32,
     "metadata": {},
     "output_type": "execute_result"
    }
   ],
   "source": [
    "stats.ttest_ind(data[(data.variant == 'variant') & (data.revenue > 0)].revenue, \\\n",
    "                data[(data.variant == 'control') & (data.revenue > 0)].revenue)\n"
   ]
  },
  {
   "cell_type": "markdown",
   "id": "28a3ee5d",
   "metadata": {},
   "source": [
    "Pvalue = 0.43\n",
    "\n",
    "According to t-test - there is no statistical difference between Control and Variant groups who pay."
   ]
  },
  {
   "cell_type": "markdown",
   "id": "93ccf09d",
   "metadata": {},
   "source": [
    "## U-test"
   ]
  },
  {
   "cell_type": "code",
   "execution_count": 33,
   "id": "64507679",
   "metadata": {},
   "outputs": [
    {
     "data": {
      "text/plain": [
       "MannwhitneyuResult(statistic=2845109.0, pvalue=0.24799555106821947)"
      ]
     },
     "execution_count": 33,
     "metadata": {},
     "output_type": "execute_result"
    }
   ],
   "source": [
    "stats.mannwhitneyu(data[data.variant == 'variant'].revenue, \\\n",
    "                   data[data.variant == 'control'].revenue)\n"
   ]
  },
  {
   "cell_type": "markdown",
   "id": "5c06364f",
   "metadata": {},
   "source": [
    "Pvalue = 0.18\n",
    "\n",
    "According to U-test - there is no statistical difference between Control and Variant groups."
   ]
  },
  {
   "cell_type": "markdown",
   "id": "b6509a44",
   "metadata": {},
   "source": [
    "And those who pay:"
   ]
  },
  {
   "cell_type": "code",
   "execution_count": 34,
   "id": "15736936",
   "metadata": {},
   "outputs": [
    {
     "data": {
      "text/plain": [
       "MannwhitneyuResult(statistic=1029.0, pvalue=0.5314192217084708)"
      ]
     },
     "execution_count": 34,
     "metadata": {},
     "output_type": "execute_result"
    }
   ],
   "source": [
    "stats.mannwhitneyu(data[(data.variant == 'variant') & (data.revenue > 0)].revenue, \\\n",
    "                data[(data.variant == 'control') & (data.revenue > 0)].revenue)\n"
   ]
  },
  {
   "cell_type": "markdown",
   "id": "8f5d4836",
   "metadata": {},
   "source": [
    "Pvalue = 0.53\n",
    "\n",
    "According to U-test - there is no statistical difference between Control and Variant groups who pay."
   ]
  },
  {
   "cell_type": "markdown",
   "id": "61ef86c1",
   "metadata": {},
   "source": [
    "## Bootstrap\n",
    "\n",
    "In order to get more complete information about the differences between the average values of the ab test groups, we will use bootstap.\n",
    "\n",
    "Let's create a function to get back samples and get a confidence interval, and then look at the sample statistics"
   ]
  },
  {
   "cell_type": "code",
   "execution_count": 35,
   "id": "aff5b2c3",
   "metadata": {},
   "outputs": [],
   "source": [
    "def get_bootstrap_samples(data, n_samples=1000):\n",
    "    indices = np.random.randint(0, len(data), (n_samples, len(data)))\n",
    "    samples = data[indices]\n",
    "    return samples\n",
    "\n",
    "def stat_intervals(stat, alpha=0.05):\n",
    "    boundaries = np.percentile(stat, [100 * alpha / 2., 100 * (1 - alpha / 2.)])\n",
    "    return boundaries\n"
   ]
  },
  {
   "cell_type": "markdown",
   "id": "ff0be8ab",
   "metadata": {},
   "source": [
    "Let's generate samples for all users"
   ]
  },
  {
   "cell_type": "code",
   "execution_count": 36,
   "id": "86df476b",
   "metadata": {},
   "outputs": [],
   "source": [
    "control = get_bootstrap_samples(data.loc[data.variant == 'control', 'revenue'].values, 10000)\n",
    "variant = get_bootstrap_samples(data.loc[data.variant == 'variant', 'revenue'].values, 10000)"
   ]
  },
  {
   "cell_type": "markdown",
   "id": "f08b2c18",
   "metadata": {},
   "source": [
    "And for those who pay"
   ]
  },
  {
   "cell_type": "code",
   "execution_count": 37,
   "id": "9f015e54",
   "metadata": {},
   "outputs": [],
   "source": [
    "control_paid = get_bootstrap_samples(data.loc[(data.variant == 'control') & (data.revenue > 0), 'revenue'].values, 10000)\n",
    "variant_paid = get_bootstrap_samples(data.loc[(data.variant == 'variant') & (data.revenue > 0), 'revenue'].values, 10000)"
   ]
  },
  {
   "cell_type": "markdown",
   "id": "0ecd504f",
   "metadata": {},
   "source": [
    "Let's look at the distribution of means in the ab test groups"
   ]
  },
  {
   "cell_type": "code",
   "execution_count": 38,
   "id": "57d695f1",
   "metadata": {},
   "outputs": [
    {
     "data": {
      "text/plain": [
       "Text(0.5, 1.0, 'Sample mean distribution for all users')"
      ]
     },
     "execution_count": 38,
     "metadata": {},
     "output_type": "execute_result"
    },
    {
     "data": {
      "image/png": "[encoded data removed]",
      "text/plain": [
       "<Figure size 640x480 with 1 Axes>"
      ]
     },
     "metadata": {},
     "output_type": "display_data"
    }
   ],
   "source": [
    "f, ax = plt.subplots()\n",
    "# plt.figure(figsize=(20,5))\n",
    "sns.kdeplot(np.mean(control, axis=1), shade=True, label='control')\n",
    "sns.kdeplot(np.mean(variant, axis=1), shade=True, label='variant')\n",
    "plt.title('Sample mean distribution for all users')"
   ]
  },
  {
   "cell_type": "code",
   "execution_count": 39,
   "id": "26c5bfc0",
   "metadata": {},
   "outputs": [
    {
     "data": {
      "text/plain": [
       "Text(0.5, 1.0, 'Sample mean distribution for paying users')"
      ]
     },
     "execution_count": 39,
     "metadata": {},
     "output_type": "execute_result"
    },
    {
     "data": {
      "image/png": "[encoded data removed]",
      "text/plain": [
       "<Figure size 640x480 with 1 Axes>"
      ]
     },
     "metadata": {},
     "output_type": "display_data"
    }
   ],
   "source": [
    "f, ax = plt.subplots()\n",
    "# plt.figure(figsize=(20,5))\n",
    "sns.kdeplot(np.mean(control_paid, axis=1), shade=True, label='control')\n",
    "sns.kdeplot(np.mean(variant_paid, axis=1), shade=True, label='variant')\n",
    "plt.title('Sample mean distribution for paying users')"
   ]
  },
  {
   "cell_type": "code",
   "execution_count": 40,
   "id": "c710f68e",
   "metadata": {},
   "outputs": [],
   "source": [
    "from tqdm.auto import tqdm\n",
    "\n",
    "plt.style.use('ggplot')"
   ]
  },
  {
   "cell_type": "code",
   "execution_count": 62,
   "id": "1c5eb091",
   "metadata": {},
   "outputs": [],
   "source": [
    "def get_bootstrap(\n",
    "    data_column_1, # col1\n",
    "    data_column_2, # col2\n",
    "    boot_it = 1000, # size of bootstrap sub-samples\n",
    "    statistic = np.mean, # statistics - mean\n",
    "    bootstrap_conf_level = 0.95 # confidence level\n",
    "):\n",
    "    boot_data = []\n",
    "    for i in tqdm(range(boot_it)): # extract sub-samples\n",
    "        samples_1 = data_column_1.sample(\n",
    "            len(data_column_1), \n",
    "            replace = True # parameter of returning\n",
    "        ).values\n",
    "        \n",
    "        samples_2 = data_column_2.sample(\n",
    "            len(data_column_1), \n",
    "            replace = True\n",
    "        ).values\n",
    "        \n",
    "        boot_data.append(statistic(samples_1)-statistic(samples_2)) # mean()\n",
    "        \n",
    "    pd_boot_data = pd.DataFrame(boot_data)\n",
    "        \n",
    "    left_quant = (1 - bootstrap_conf_level)/2\n",
    "    right_quant = 1 - (1 - bootstrap_conf_level) / 2\n",
    "    quants = pd_boot_data.quantile([left_quant, right_quant])\n",
    "        \n",
    "    p_1 = norm.cdf(\n",
    "        x = 0, \n",
    "        loc = np.mean(boot_data), \n",
    "        scale = np.std(boot_data)\n",
    "    )\n",
    "    p_2 = norm.cdf(\n",
    "        x = 0, \n",
    "        loc = -np.mean(boot_data), \n",
    "        scale = np.std(boot_data)\n",
    "    )\n",
    "    p_value = min(p_1, p_2) * 2\n",
    "        \n",
    "    # Visualisation\n",
    "    _, _, bars = plt.hist(pd_boot_data[0], bins = 50)\n",
    "    for bar in bars:\n",
    "        if bar.get_x() <= quants.iloc[0][0] or bar.get_x() >= quants.iloc[1][0]:\n",
    "            bar.set_facecolor('red')\n",
    "        else: \n",
    "            bar.set_facecolor('grey')\n",
    "            bar.set_edgecolor('black')\n",
    "    \n",
    "    plt.style.use('ggplot')\n",
    "    plt.vlines(quants,ymin=0,ymax=50,linestyle='--')\n",
    "    plt.xlabel('boot_data')\n",
    "    plt.ylabel('frequency')\n",
    "    plt.title(\"Histogram of boot_data\")\n",
    "    plt.show()\n",
    "       \n",
    "    return {\"boot_data\": boot_data, \n",
    "            \"quants\": quants, \n",
    "            \"p_value\": p_value}"
   ]
  },
  {
   "cell_type": "code",
   "execution_count": 63,
   "id": "491b13f2",
   "metadata": {},
   "outputs": [
    {
     "data": {
      "application/vnd.jupyter.widget-view+json": {
       "model_id": "1c28c7cb31ac4a73b1d2adfc327e8f07",
       "version_major": 2,
       "version_minor": 0
      },
      "text/plain": [
       "  0%|          | 0/1000 [00:00<?, ?it/s]"
      ]
     },
     "metadata": {},
     "output_type": "display_data"
    },
    {
     "data": {
      "image/png": "[encoded data removed]",
      "text/plain": [
       "<Figure size 400x200 with 1 Axes>"
      ]
     },
     "metadata": {},
     "output_type": "display_data"
    }
   ],
   "source": [
    "plt.figure(figsize = (4,2))\n",
    "booted_data = get_bootstrap(data.loc[data.variant == 'control', 'revenue'],\n",
    "              data.loc[data.variant == 'variant', 'revenue'])"
   ]
  },
  {
   "cell_type": "code",
   "execution_count": 64,
   "id": "387256e6",
   "metadata": {},
   "outputs": [
    {
     "data": {
      "text/plain": [
       "0.17025783254391602"
      ]
     },
     "execution_count": 64,
     "metadata": {},
     "output_type": "execute_result"
    }
   ],
   "source": [
    "booted_data[\"p_value\"] # alpha"
   ]
  },
  {
   "cell_type": "code",
   "execution_count": 65,
   "id": "63242bc7",
   "metadata": {},
   "outputs": [
    {
     "data": {
      "text/html": [
       "<div>\n",
       "<style scoped>\n",
       "    .dataframe tbody tr th:only-of-type {\n",
       "        vertical-align: middle;\n",
       "    }\n",
       "\n",
       "    .dataframe tbody tr th {\n",
       "        vertical-align: top;\n",
       "    }\n",
       "\n",
       "    .dataframe thead th {\n",
       "        text-align: right;\n",
       "    }\n",
       "</style>\n",
       "<table border=\"1\" class=\"dataframe\">\n",
       "  <thead>\n",
       "    <tr style=\"text-align: right;\">\n",
       "      <th></th>\n",
       "      <th>0</th>\n",
       "    </tr>\n",
       "  </thead>\n",
       "  <tbody>\n",
       "    <tr>\n",
       "      <th>0.025</th>\n",
       "      <td>-0.014720</td>\n",
       "    </tr>\n",
       "    <tr>\n",
       "      <th>0.975</th>\n",
       "      <td>0.101377</td>\n",
       "    </tr>\n",
       "  </tbody>\n",
       "</table>\n",
       "</div>"
      ],
      "text/plain": [
       "              0\n",
       "0.025 -0.014720\n",
       "0.975  0.101377"
      ]
     },
     "execution_count": 65,
     "metadata": {},
     "output_type": "execute_result"
    }
   ],
   "source": [
    "booted_data[\"quants\"] # Confidence Interval"
   ]
  },
  {
   "cell_type": "markdown",
   "id": "616fb1a9",
   "metadata": {},
   "source": [
    "Pvalue = 0.17\n",
    "\n",
    "According to Bootstrap test - there is no statistical difference between Control and Variant groups who pay."
   ]
  },
  {
   "cell_type": "markdown",
   "id": "7da61d15",
   "metadata": {},
   "source": [
    "# Conclusions\n",
    "Before statistical tests we have filtered the data: dropped users which were in both groups, User_id=3342 was excluded (outlier), summarised multiple records for each user into one, toke a look to statistics of all users and paid users.\n",
    "\n",
    "According to stats of users variant group has lower revenue that control group, but there is no statistical difference between two groups in all stats tests."
   ]
  }
 ],
 "metadata": {
  "kernelspec": {
   "display_name": "Python 3 (ipykernel)",
   "language": "python",
   "name": "python3"
  },
  "language_info": {
   "codemirror_mode": {
    "name": "ipython",
    "version": 3
   },
   "file_extension": ".py",
   "mimetype": "text/x-python",
   "name": "python",
   "nbconvert_exporter": "python",
   "pygments_lexer": "ipython3",
   "version": "3.9.13"
  }
 },
 "nbformat": 4,
 "nbformat_minor": 5
}
